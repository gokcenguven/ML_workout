{
 "cells": [
  {
   "cell_type": "code",
   "execution_count": 2,
   "metadata": {},
   "outputs": [],
   "source": [
    "import pandas as pd\n",
    "import numpy as np\n",
    "import matplotlib.pyplot as plt\n",
    "import seaborn as sns\n",
    "\n",
    "from sklearn.metrics import classification_report, confusion_matrix, roc_curve, auc, roc_auc_score\n",
    "from sklearn.model_selection import cross_val_score, cross_val_predict  \n",
    "\n",
    "\n",
    "%matplotlib inline\n",
    "plt.style.use('seaborn-white')\n",
    "\n"
   ]
  },
  {
   "cell_type": "code",
   "execution_count": 3,
   "metadata": {},
   "outputs": [],
   "source": [
    "dataset=\"bank-additional-full.csv\"\n",
    "bankdata=pd.read_csv(dataset, delimiter=\";\")\n",
    "bankdata[\"response\"] = bankdata.y.map({'no':0, 'yes':1})\n",
    "\n",
    "bankdata.drop([\"y\"],axis=1, inplace=True)\n",
    "#bankdata.info()\n",
    "#(bankdata.response==0).sum()\n",
    "\n",
    "#bankdata.age.unique()"
   ]
  },
  {
   "cell_type": "code",
   "execution_count": 4,
   "metadata": {},
   "outputs": [
    {
     "data": {
      "text/html": [
       "<div>\n",
       "<style scoped>\n",
       "    .dataframe tbody tr th:only-of-type {\n",
       "        vertical-align: middle;\n",
       "    }\n",
       "\n",
       "    .dataframe tbody tr th {\n",
       "        vertical-align: top;\n",
       "    }\n",
       "\n",
       "    .dataframe thead th {\n",
       "        text-align: right;\n",
       "    }\n",
       "</style>\n",
       "<table border=\"1\" class=\"dataframe\">\n",
       "  <thead>\n",
       "    <tr style=\"text-align: right;\">\n",
       "      <th></th>\n",
       "      <th>age</th>\n",
       "      <th>job</th>\n",
       "      <th>marital</th>\n",
       "      <th>education</th>\n",
       "      <th>default</th>\n",
       "      <th>housing</th>\n",
       "      <th>loan</th>\n",
       "      <th>contact</th>\n",
       "      <th>month</th>\n",
       "      <th>day_of_week</th>\n",
       "      <th>...</th>\n",
       "      <th>campaign</th>\n",
       "      <th>pdays</th>\n",
       "      <th>previous</th>\n",
       "      <th>poutcome</th>\n",
       "      <th>emp.var.rate</th>\n",
       "      <th>cons.price.idx</th>\n",
       "      <th>cons.conf.idx</th>\n",
       "      <th>euribor3m</th>\n",
       "      <th>nr.employed</th>\n",
       "      <th>response</th>\n",
       "    </tr>\n",
       "  </thead>\n",
       "  <tbody>\n",
       "    <tr>\n",
       "      <th>0</th>\n",
       "      <td>56</td>\n",
       "      <td>housemaid</td>\n",
       "      <td>married</td>\n",
       "      <td>basic.4y</td>\n",
       "      <td>no</td>\n",
       "      <td>no</td>\n",
       "      <td>no</td>\n",
       "      <td>telephone</td>\n",
       "      <td>may</td>\n",
       "      <td>mon</td>\n",
       "      <td>...</td>\n",
       "      <td>1</td>\n",
       "      <td>999</td>\n",
       "      <td>0</td>\n",
       "      <td>nonexistent</td>\n",
       "      <td>1.1</td>\n",
       "      <td>93.994</td>\n",
       "      <td>-36.4</td>\n",
       "      <td>4.857</td>\n",
       "      <td>5191.0</td>\n",
       "      <td>0</td>\n",
       "    </tr>\n",
       "    <tr>\n",
       "      <th>1</th>\n",
       "      <td>57</td>\n",
       "      <td>services</td>\n",
       "      <td>married</td>\n",
       "      <td>high.school</td>\n",
       "      <td>unknown</td>\n",
       "      <td>no</td>\n",
       "      <td>no</td>\n",
       "      <td>telephone</td>\n",
       "      <td>may</td>\n",
       "      <td>mon</td>\n",
       "      <td>...</td>\n",
       "      <td>1</td>\n",
       "      <td>999</td>\n",
       "      <td>0</td>\n",
       "      <td>nonexistent</td>\n",
       "      <td>1.1</td>\n",
       "      <td>93.994</td>\n",
       "      <td>-36.4</td>\n",
       "      <td>4.857</td>\n",
       "      <td>5191.0</td>\n",
       "      <td>0</td>\n",
       "    </tr>\n",
       "  </tbody>\n",
       "</table>\n",
       "<p>2 rows × 21 columns</p>\n",
       "</div>"
      ],
      "text/plain": [
       "   age        job  marital    education  default housing loan    contact  \\\n",
       "0   56  housemaid  married     basic.4y       no      no   no  telephone   \n",
       "1   57   services  married  high.school  unknown      no   no  telephone   \n",
       "\n",
       "  month day_of_week  ...  campaign  pdays  previous     poutcome emp.var.rate  \\\n",
       "0   may         mon  ...         1    999         0  nonexistent          1.1   \n",
       "1   may         mon  ...         1    999         0  nonexistent          1.1   \n",
       "\n",
       "   cons.price.idx  cons.conf.idx  euribor3m  nr.employed  response  \n",
       "0          93.994          -36.4      4.857       5191.0         0  \n",
       "1          93.994          -36.4      4.857       5191.0         0  \n",
       "\n",
       "[2 rows x 21 columns]"
      ]
     },
     "execution_count": 4,
     "metadata": {},
     "output_type": "execute_result"
    }
   ],
   "source": [
    "bankdata.head(2)"
   ]
  },
  {
   "cell_type": "code",
   "execution_count": 5,
   "metadata": {},
   "outputs": [
    {
     "data": {
      "text/plain": [
       "(41188, 11)"
      ]
     },
     "execution_count": 5,
     "metadata": {},
     "output_type": "execute_result"
    }
   ],
   "source": [
    "#The method .copy() is used here so that any changes made in new DataFrame don't get reflected in the original one\n",
    "cat_bankdata = bankdata.select_dtypes(include=['object']).copy() #dataframe of columns with object type columns\n",
    "\n",
    "#print(cat_bankdata.isnull().values.sum()) #checking for the null values\n",
    "#print(cat_bankdata.isnull().sum()) #check the column-wise distribution of null values\n",
    "int_float_bankdata= bankdata.select_dtypes(include=['int64','float64']).copy() #dataframe of columns with int64,float64 type columns\n",
    "int_float_bankdata.shape #includes response\n"
   ]
  },
  {
   "cell_type": "code",
   "execution_count": 6,
   "metadata": {},
   "outputs": [
    {
     "data": {
      "text/html": [
       "<div>\n",
       "<style scoped>\n",
       "    .dataframe tbody tr th:only-of-type {\n",
       "        vertical-align: middle;\n",
       "    }\n",
       "\n",
       "    .dataframe tbody tr th {\n",
       "        vertical-align: top;\n",
       "    }\n",
       "\n",
       "    .dataframe thead th {\n",
       "        text-align: right;\n",
       "    }\n",
       "</style>\n",
       "<table border=\"1\" class=\"dataframe\">\n",
       "  <thead>\n",
       "    <tr style=\"text-align: right;\">\n",
       "      <th></th>\n",
       "      <th>job</th>\n",
       "      <th>marital</th>\n",
       "      <th>education</th>\n",
       "      <th>default</th>\n",
       "      <th>housing</th>\n",
       "      <th>loan</th>\n",
       "      <th>contact</th>\n",
       "      <th>month</th>\n",
       "      <th>day_of_week</th>\n",
       "      <th>poutcome</th>\n",
       "    </tr>\n",
       "  </thead>\n",
       "  <tbody>\n",
       "    <tr>\n",
       "      <th>0</th>\n",
       "      <td>3</td>\n",
       "      <td>1</td>\n",
       "      <td>0</td>\n",
       "      <td>0</td>\n",
       "      <td>0</td>\n",
       "      <td>0</td>\n",
       "      <td>1</td>\n",
       "      <td>6</td>\n",
       "      <td>1</td>\n",
       "      <td>1</td>\n",
       "    </tr>\n",
       "    <tr>\n",
       "      <th>1</th>\n",
       "      <td>7</td>\n",
       "      <td>1</td>\n",
       "      <td>3</td>\n",
       "      <td>1</td>\n",
       "      <td>0</td>\n",
       "      <td>0</td>\n",
       "      <td>1</td>\n",
       "      <td>6</td>\n",
       "      <td>1</td>\n",
       "      <td>1</td>\n",
       "    </tr>\n",
       "    <tr>\n",
       "      <th>2</th>\n",
       "      <td>7</td>\n",
       "      <td>1</td>\n",
       "      <td>3</td>\n",
       "      <td>0</td>\n",
       "      <td>2</td>\n",
       "      <td>0</td>\n",
       "      <td>1</td>\n",
       "      <td>6</td>\n",
       "      <td>1</td>\n",
       "      <td>1</td>\n",
       "    </tr>\n",
       "    <tr>\n",
       "      <th>3</th>\n",
       "      <td>0</td>\n",
       "      <td>1</td>\n",
       "      <td>1</td>\n",
       "      <td>0</td>\n",
       "      <td>0</td>\n",
       "      <td>0</td>\n",
       "      <td>1</td>\n",
       "      <td>6</td>\n",
       "      <td>1</td>\n",
       "      <td>1</td>\n",
       "    </tr>\n",
       "    <tr>\n",
       "      <th>4</th>\n",
       "      <td>7</td>\n",
       "      <td>1</td>\n",
       "      <td>3</td>\n",
       "      <td>0</td>\n",
       "      <td>0</td>\n",
       "      <td>2</td>\n",
       "      <td>1</td>\n",
       "      <td>6</td>\n",
       "      <td>1</td>\n",
       "      <td>1</td>\n",
       "    </tr>\n",
       "  </tbody>\n",
       "</table>\n",
       "</div>"
      ],
      "text/plain": [
       "   job  marital  education  default  housing  loan  contact  month  \\\n",
       "0    3        1          0        0        0     0        1      6   \n",
       "1    7        1          3        1        0     0        1      6   \n",
       "2    7        1          3        0        2     0        1      6   \n",
       "3    0        1          1        0        0     0        1      6   \n",
       "4    7        1          3        0        0     2        1      6   \n",
       "\n",
       "   day_of_week  poutcome  \n",
       "0            1         1  \n",
       "1            1         1  \n",
       "2            1         1  \n",
       "3            1         1  \n",
       "4            1         1  "
      ]
     },
     "execution_count": 6,
     "metadata": {},
     "output_type": "execute_result"
    }
   ],
   "source": [
    "#converting categories into numeric types(numeric encoding)\n",
    "\n",
    "cat_column=cat_bankdata.columns.tolist()\n",
    "\n",
    "for i in cat_column:\n",
    "    cat_bankdata[i] = cat_bankdata[i].astype('category')\n",
    "    cat_bankdata[i] = cat_bankdata[i].cat.codes\n",
    "    \n",
    "cat_bankdata.head() "
   ]
  },
  {
   "cell_type": "code",
   "execution_count": 7,
   "metadata": {},
   "outputs": [],
   "source": [
    "from sklearn.feature_selection import VarianceThreshold\n",
    "\n",
    "var_bankdata=pd.concat([int_float_bankdata,cat_bankdata],axis=1)\n",
    "\n",
    "#EX/ threshold=0.1 which means that if the variance of the values in a column is less than 0.1, remove those columns.\n",
    "#In other words, remove feature column where approximately 99% of the values are similar.\n",
    "variance_filter = VarianceThreshold(threshold=0.1)\n",
    "bankdata_filtered=variance_filter.fit(var_bankdata)  \n",
    "\n",
    "#Now to get all the features that are NOT CONSTANT, we can use the get_support() method of the filter that we created\n",
    "len(var_bankdata.columns[variance_filter.get_support()]) \n",
    "\n",
    "#the number of constant features with the help of the following script:\n",
    "constant_columns = [column for column in var_bankdata.columns  \n",
    "                    if column not in var_bankdata.columns[variance_filter.get_support()]]\n",
    "\n",
    "#print(variable_columns)\n",
    "#print(int_float_bankdata.columns[variance_filter.get_support()])\n",
    "bankdata_filtered=var_bankdata[var_bankdata.columns[variance_filter.get_support()]]\n"
   ]
  },
  {
   "cell_type": "code",
   "execution_count": 8,
   "metadata": {},
   "outputs": [
    {
     "name": "stdout",
     "output_type": "stream",
     "text": [
      "<class 'pandas.core.frame.DataFrame'>\n",
      "RangeIndex: 41188 entries, 0 to 41187\n",
      "Data columns (total 20 columns):\n",
      "age               41188 non-null int64\n",
      "duration          41188 non-null int64\n",
      "campaign          41188 non-null int64\n",
      "pdays             41188 non-null int64\n",
      "previous          41188 non-null int64\n",
      "emp.var.rate      41188 non-null float64\n",
      "cons.price.idx    41188 non-null float64\n",
      "cons.conf.idx     41188 non-null float64\n",
      "euribor3m         41188 non-null float64\n",
      "nr.employed       41188 non-null float64\n",
      "job               41188 non-null int8\n",
      "marital           41188 non-null int8\n",
      "education         41188 non-null int8\n",
      "default           41188 non-null int8\n",
      "housing           41188 non-null int8\n",
      "loan              41188 non-null int8\n",
      "contact           41188 non-null int8\n",
      "month             41188 non-null int8\n",
      "day_of_week       41188 non-null int8\n",
      "poutcome          41188 non-null int8\n",
      "dtypes: float64(5), int64(5), int8(10)\n",
      "memory usage: 3.5 MB\n"
     ]
    }
   ],
   "source": [
    "bankdata_filtered.info()  #not include \"response\""
   ]
  },
  {
   "cell_type": "code",
   "execution_count": 9,
   "metadata": {},
   "outputs": [
    {
     "name": "stdout",
     "output_type": "stream",
     "text": [
      "['response']\n"
     ]
    }
   ],
   "source": [
    "print(constant_columns)"
   ]
  },
  {
   "cell_type": "code",
   "execution_count": 10,
   "metadata": {},
   "outputs": [
    {
     "name": "stdout",
     "output_type": "stream",
     "text": [
      "P-value:  job >> 4.189763287563861e-199\n",
      "P-value:  marital >> 2.068014648442211e-26\n",
      "P-value:  education >> 3.3051890144025054e-38\n",
      "P-value:  default >> 5.1619579513916376e-89\n",
      "P-value:  housing >> 0.05829447669453452\n",
      "P-value:  loan >> 0.5786752870441754\n",
      "P-value:  contact >> 1.5259856523129964e-189\n",
      "P-value:  month >> 0.0\n",
      "P-value:  day_of_week >> 2.9584820052785324e-05\n",
      "P-value:  poutcome >> 0.0\n"
     ]
    }
   ],
   "source": [
    "#Let's use chi-square test to understand relationship between categorical variables and target variable.\n",
    "#Null Hypothesis which is these features are independent and have no relationship with target variable.\n",
    "\n",
    "from scipy.stats import chi2_contingency\n",
    "\n",
    "no_relation_list=[]\n",
    "for i in cat_bankdata.columns.tolist():\n",
    "    csq=chi2_contingency(pd.crosstab(bankdata[\"response\"], cat_bankdata[i]))\n",
    "    print(\"P-value: \",i, \">>\",csq[1])\n",
    "    if csq[1]>0.05:\n",
    "        no_relation_list.append(i)"
   ]
  },
  {
   "cell_type": "code",
   "execution_count": 11,
   "metadata": {},
   "outputs": [
    {
     "name": "stdout",
     "output_type": "stream",
     "text": [
      "['housing', 'loan']\n"
     ]
    }
   ],
   "source": [
    "print(no_relation_list)"
   ]
  },
  {
   "cell_type": "code",
   "execution_count": 12,
   "metadata": {},
   "outputs": [
    {
     "data": {
      "text/html": [
       "<div>\n",
       "<style scoped>\n",
       "    .dataframe tbody tr th:only-of-type {\n",
       "        vertical-align: middle;\n",
       "    }\n",
       "\n",
       "    .dataframe tbody tr th {\n",
       "        vertical-align: top;\n",
       "    }\n",
       "\n",
       "    .dataframe thead th {\n",
       "        text-align: right;\n",
       "    }\n",
       "</style>\n",
       "<table border=\"1\" class=\"dataframe\">\n",
       "  <thead>\n",
       "    <tr style=\"text-align: right;\">\n",
       "      <th></th>\n",
       "      <th>job</th>\n",
       "      <th>marital</th>\n",
       "      <th>education</th>\n",
       "      <th>default</th>\n",
       "      <th>contact</th>\n",
       "      <th>month</th>\n",
       "      <th>day_of_week</th>\n",
       "      <th>poutcome</th>\n",
       "    </tr>\n",
       "  </thead>\n",
       "  <tbody>\n",
       "    <tr>\n",
       "      <th>0</th>\n",
       "      <td>housemaid</td>\n",
       "      <td>married</td>\n",
       "      <td>basic.4y</td>\n",
       "      <td>no</td>\n",
       "      <td>telephone</td>\n",
       "      <td>may</td>\n",
       "      <td>mon</td>\n",
       "      <td>nonexistent</td>\n",
       "    </tr>\n",
       "    <tr>\n",
       "      <th>1</th>\n",
       "      <td>services</td>\n",
       "      <td>married</td>\n",
       "      <td>high.school</td>\n",
       "      <td>unknown</td>\n",
       "      <td>telephone</td>\n",
       "      <td>may</td>\n",
       "      <td>mon</td>\n",
       "      <td>nonexistent</td>\n",
       "    </tr>\n",
       "    <tr>\n",
       "      <th>2</th>\n",
       "      <td>services</td>\n",
       "      <td>married</td>\n",
       "      <td>high.school</td>\n",
       "      <td>no</td>\n",
       "      <td>telephone</td>\n",
       "      <td>may</td>\n",
       "      <td>mon</td>\n",
       "      <td>nonexistent</td>\n",
       "    </tr>\n",
       "    <tr>\n",
       "      <th>3</th>\n",
       "      <td>admin.</td>\n",
       "      <td>married</td>\n",
       "      <td>basic.6y</td>\n",
       "      <td>no</td>\n",
       "      <td>telephone</td>\n",
       "      <td>may</td>\n",
       "      <td>mon</td>\n",
       "      <td>nonexistent</td>\n",
       "    </tr>\n",
       "    <tr>\n",
       "      <th>4</th>\n",
       "      <td>services</td>\n",
       "      <td>married</td>\n",
       "      <td>high.school</td>\n",
       "      <td>no</td>\n",
       "      <td>telephone</td>\n",
       "      <td>may</td>\n",
       "      <td>mon</td>\n",
       "      <td>nonexistent</td>\n",
       "    </tr>\n",
       "  </tbody>\n",
       "</table>\n",
       "</div>"
      ],
      "text/plain": [
       "         job  marital    education  default    contact month day_of_week  \\\n",
       "0  housemaid  married     basic.4y       no  telephone   may         mon   \n",
       "1   services  married  high.school  unknown  telephone   may         mon   \n",
       "2   services  married  high.school       no  telephone   may         mon   \n",
       "3     admin.  married     basic.6y       no  telephone   may         mon   \n",
       "4   services  married  high.school       no  telephone   may         mon   \n",
       "\n",
       "      poutcome  \n",
       "0  nonexistent  \n",
       "1  nonexistent  \n",
       "2  nonexistent  \n",
       "3  nonexistent  \n",
       "4  nonexistent  "
      ]
     },
     "execution_count": 12,
     "metadata": {},
     "output_type": "execute_result"
    }
   ],
   "source": [
    "#print(no_relation_column)  #returns ['housing', 'loan']\n",
    "cat_bankdata = bankdata.select_dtypes(include=['object']).copy() #reassigning cat_bankdata for one-hot-encoding\n",
    "cat_bankdata.drop(columns=list(no_relation_list), axis=1, inplace=True)  \n",
    "cat_bankdata.head()"
   ]
  },
  {
   "cell_type": "code",
   "execution_count": 11,
   "metadata": {},
   "outputs": [
    {
     "data": {
      "text/plain": [
       "array([[<matplotlib.axes._subplots.AxesSubplot object at 0x00000074BDA26F28>,\n",
       "        <matplotlib.axes._subplots.AxesSubplot object at 0x00000074BDD3B518>,\n",
       "        <matplotlib.axes._subplots.AxesSubplot object at 0x00000074BDD60B00>],\n",
       "       [<matplotlib.axes._subplots.AxesSubplot object at 0x00000074BDD90240>,\n",
       "        <matplotlib.axes._subplots.AxesSubplot object at 0x00000074BDDE7BA8>,\n",
       "        <matplotlib.axes._subplots.AxesSubplot object at 0x00000074BDDE7BE0>],\n",
       "       [<matplotlib.axes._subplots.AxesSubplot object at 0x00000074BDE410F0>,\n",
       "        <matplotlib.axes._subplots.AxesSubplot object at 0x00000074BDE66B70>,\n",
       "        <matplotlib.axes._subplots.AxesSubplot object at 0x00000074BDE94630>],\n",
       "       [<matplotlib.axes._subplots.AxesSubplot object at 0x00000074BE2030F0>,\n",
       "        <matplotlib.axes._subplots.AxesSubplot object at 0x00000074BF347B70>,\n",
       "        <matplotlib.axes._subplots.AxesSubplot object at 0x00000074BF375630>]],\n",
       "      dtype=object)"
      ]
     },
     "execution_count": 11,
     "metadata": {},
     "output_type": "execute_result"
    },
    {
     "data": {
      "image/png": "[encoded data removed]",
      "text/plain": [
       "<Figure size 1080x648 with 12 Axes>"
      ]
     },
     "metadata": {},
     "output_type": "display_data"
    }
   ],
   "source": [
    "int_float_bankdata.hist(figsize=(15,9),bins=50)"
   ]
  },
  {
   "cell_type": "code",
   "execution_count": 13,
   "metadata": {
    "scrolled": true
   },
   "outputs": [
    {
     "name": "stdout",
     "output_type": "stream",
     "text": [
      "<class 'pandas.core.frame.DataFrame'>\n",
      "RangeIndex: 41188 entries, 0 to 41187\n",
      "Data columns (total 39 columns):\n",
      "job_blue-collar                  41188 non-null uint8\n",
      "job_entrepreneur                 41188 non-null uint8\n",
      "job_housemaid                    41188 non-null uint8\n",
      "job_management                   41188 non-null uint8\n",
      "job_retired                      41188 non-null uint8\n",
      "job_self-employed                41188 non-null uint8\n",
      "job_services                     41188 non-null uint8\n",
      "job_student                      41188 non-null uint8\n",
      "job_technician                   41188 non-null uint8\n",
      "job_unemployed                   41188 non-null uint8\n",
      "job_unknown                      41188 non-null uint8\n",
      "marital_married                  41188 non-null uint8\n",
      "marital_single                   41188 non-null uint8\n",
      "marital_unknown                  41188 non-null uint8\n",
      "education_basic.6y               41188 non-null uint8\n",
      "education_basic.9y               41188 non-null uint8\n",
      "education_high.school            41188 non-null uint8\n",
      "education_illiterate             41188 non-null uint8\n",
      "education_professional.course    41188 non-null uint8\n",
      "education_university.degree      41188 non-null uint8\n",
      "education_unknown                41188 non-null uint8\n",
      "default_unknown                  41188 non-null uint8\n",
      "default_yes                      41188 non-null uint8\n",
      "contact_telephone                41188 non-null uint8\n",
      "month_aug                        41188 non-null uint8\n",
      "month_dec                        41188 non-null uint8\n",
      "month_jul                        41188 non-null uint8\n",
      "month_jun                        41188 non-null uint8\n",
      "month_mar                        41188 non-null uint8\n",
      "month_may                        41188 non-null uint8\n",
      "month_nov                        41188 non-null uint8\n",
      "month_oct                        41188 non-null uint8\n",
      "month_sep                        41188 non-null uint8\n",
      "day_of_week_mon                  41188 non-null uint8\n",
      "day_of_week_thu                  41188 non-null uint8\n",
      "day_of_week_tue                  41188 non-null uint8\n",
      "day_of_week_wed                  41188 non-null uint8\n",
      "poutcome_nonexistent             41188 non-null uint8\n",
      "poutcome_success                 41188 non-null uint8\n",
      "dtypes: uint8(39)\n",
      "memory usage: 1.5 MB\n",
      "None\n"
     ]
    }
   ],
   "source": [
    "#creating dummy variables from categorical features (One-Hot encoding)>> this has the benefit of not weighting a value improperly.\n",
    "#sklearn has \"LabelBinarizer\" class for one- hot encoding\n",
    "\n",
    "cat_bankdata_dummy = cat_bankdata.copy()\n",
    "cat_column_list=cat_bankdata.columns.tolist()\n",
    "\n",
    "cat_bankdata_dummy = pd.get_dummies(cat_bankdata_dummy, columns=cat_column_list, prefix = cat_column_list,drop_first=True)\n",
    "#In order to reduce the correlation among variables,simply remove one feature column,by assigning \"drop_first\" argument to \"True\", from the one-hot encoded array,\n",
    "\n",
    "print(cat_bankdata_dummy.info())"
   ]
  },
  {
   "cell_type": "code",
   "execution_count": 14,
   "metadata": {},
   "outputs": [
    {
     "data": {
      "text/html": [
       "<div>\n",
       "<style scoped>\n",
       "    .dataframe tbody tr th:only-of-type {\n",
       "        vertical-align: middle;\n",
       "    }\n",
       "\n",
       "    .dataframe tbody tr th {\n",
       "        vertical-align: top;\n",
       "    }\n",
       "\n",
       "    .dataframe thead th {\n",
       "        text-align: right;\n",
       "    }\n",
       "</style>\n",
       "<table border=\"1\" class=\"dataframe\">\n",
       "  <thead>\n",
       "    <tr style=\"text-align: right;\">\n",
       "      <th></th>\n",
       "      <th>age</th>\n",
       "      <th>duration</th>\n",
       "      <th>campaign</th>\n",
       "      <th>pdays</th>\n",
       "      <th>previous</th>\n",
       "      <th>emp.var.rate</th>\n",
       "      <th>cons.price.idx</th>\n",
       "      <th>cons.conf.idx</th>\n",
       "      <th>euribor3m</th>\n",
       "      <th>nr.employed</th>\n",
       "      <th>response</th>\n",
       "    </tr>\n",
       "  </thead>\n",
       "  <tbody>\n",
       "    <tr>\n",
       "      <th>0</th>\n",
       "      <td>56</td>\n",
       "      <td>261</td>\n",
       "      <td>1</td>\n",
       "      <td>999</td>\n",
       "      <td>0</td>\n",
       "      <td>1.1</td>\n",
       "      <td>93.994</td>\n",
       "      <td>-36.4</td>\n",
       "      <td>4.857</td>\n",
       "      <td>5191.0</td>\n",
       "      <td>0</td>\n",
       "    </tr>\n",
       "    <tr>\n",
       "      <th>1</th>\n",
       "      <td>57</td>\n",
       "      <td>149</td>\n",
       "      <td>1</td>\n",
       "      <td>999</td>\n",
       "      <td>0</td>\n",
       "      <td>1.1</td>\n",
       "      <td>93.994</td>\n",
       "      <td>-36.4</td>\n",
       "      <td>4.857</td>\n",
       "      <td>5191.0</td>\n",
       "      <td>0</td>\n",
       "    </tr>\n",
       "    <tr>\n",
       "      <th>2</th>\n",
       "      <td>37</td>\n",
       "      <td>226</td>\n",
       "      <td>1</td>\n",
       "      <td>999</td>\n",
       "      <td>0</td>\n",
       "      <td>1.1</td>\n",
       "      <td>93.994</td>\n",
       "      <td>-36.4</td>\n",
       "      <td>4.857</td>\n",
       "      <td>5191.0</td>\n",
       "      <td>0</td>\n",
       "    </tr>\n",
       "    <tr>\n",
       "      <th>3</th>\n",
       "      <td>40</td>\n",
       "      <td>151</td>\n",
       "      <td>1</td>\n",
       "      <td>999</td>\n",
       "      <td>0</td>\n",
       "      <td>1.1</td>\n",
       "      <td>93.994</td>\n",
       "      <td>-36.4</td>\n",
       "      <td>4.857</td>\n",
       "      <td>5191.0</td>\n",
       "      <td>0</td>\n",
       "    </tr>\n",
       "    <tr>\n",
       "      <th>4</th>\n",
       "      <td>56</td>\n",
       "      <td>307</td>\n",
       "      <td>1</td>\n",
       "      <td>999</td>\n",
       "      <td>0</td>\n",
       "      <td>1.1</td>\n",
       "      <td>93.994</td>\n",
       "      <td>-36.4</td>\n",
       "      <td>4.857</td>\n",
       "      <td>5191.0</td>\n",
       "      <td>0</td>\n",
       "    </tr>\n",
       "  </tbody>\n",
       "</table>\n",
       "</div>"
      ],
      "text/plain": [
       "   age  duration  campaign  pdays  previous  emp.var.rate  cons.price.idx  \\\n",
       "0   56       261         1    999         0           1.1          93.994   \n",
       "1   57       149         1    999         0           1.1          93.994   \n",
       "2   37       226         1    999         0           1.1          93.994   \n",
       "3   40       151         1    999         0           1.1          93.994   \n",
       "4   56       307         1    999         0           1.1          93.994   \n",
       "\n",
       "   cons.conf.idx  euribor3m  nr.employed  response  \n",
       "0          -36.4      4.857       5191.0         0  \n",
       "1          -36.4      4.857       5191.0         0  \n",
       "2          -36.4      4.857       5191.0         0  \n",
       "3          -36.4      4.857       5191.0         0  \n",
       "4          -36.4      4.857       5191.0         0  "
      ]
     },
     "execution_count": 14,
     "metadata": {},
     "output_type": "execute_result"
    }
   ],
   "source": [
    "int_float_bankdata.head()"
   ]
  },
  {
   "cell_type": "code",
   "execution_count": 15,
   "metadata": {},
   "outputs": [],
   "source": [
    "#Concatenating back with the remaining columns, which can be done via pandas' .concat() method. \n",
    "#The axis argument is set to 1 as you want to merge on columns.\n",
    "\n",
    "resulting_bankdata = pd.concat([cat_bankdata_dummy, int_float_bankdata], axis=1)\n",
    "resulting_feature_set=resulting_bankdata.drop([\"response\"],axis=1) #response variable excluded"
   ]
  },
  {
   "cell_type": "code",
   "execution_count": 16,
   "metadata": {},
   "outputs": [
    {
     "data": {
      "text/plain": [
       "<matplotlib.axes._subplots.AxesSubplot at 0x123dc26dd8>"
      ]
     },
     "execution_count": 16,
     "metadata": {},
     "output_type": "execute_result"
    },
    {
     "data": {
      "image/png": "[encoded data removed]",
      "text/plain": [
       "<Figure size 864x432 with 2 Axes>"
      ]
     },
     "metadata": {},
     "output_type": "display_data"
    }
   ],
   "source": [
    "#Correlation plot\n",
    "\n",
    "correlation_matrix=bankdata.corr()\n",
    "plt.figure(figsize=(12,6))\n",
    "\n",
    "sns.heatmap(correlation_matrix,cmap=\"YlGnBu\",annot=True)"
   ]
  },
  {
   "cell_type": "code",
   "execution_count": 17,
   "metadata": {},
   "outputs": [],
   "source": [
    "#Removing Correlated Features\n",
    "#Two or more than two features are correlated if they are close to each other in the linear space.\n",
    "#Correlation between the output observations and the input features is very important and such features should be retained.\n",
    "#Removing Correlated Features using corr() method returns a correlation matrix containing correlation between all the columns of the dataframe\n",
    "\n",
    "correlated_features = set()   #creating empty set\n",
    "correlation_matrix = int_float_bankdata.corr()  \n",
    "\n",
    "for i in range(len(correlation_matrix.columns)):  \n",
    "    for j in range(i):\n",
    "        if abs(correlation_matrix.iloc[i, j]) > 0.8:\n",
    "            colname = correlation_matrix.columns[i]\n",
    "            correlated_features.add(colname)"
   ]
  },
  {
   "cell_type": "code",
   "execution_count": 18,
   "metadata": {},
   "outputs": [
    {
     "name": "stdout",
     "output_type": "stream",
     "text": [
      "{'euribor3m', 'nr.employed'}\n"
     ]
    }
   ],
   "source": [
    "print(correlated_features)"
   ]
  },
  {
   "cell_type": "code",
   "execution_count": 19,
   "metadata": {},
   "outputs": [],
   "source": [
    "#These correlated columns convey similar information to the learning algorithm and therefore, should be removed            \n",
    "#The following script removes these columns from the dataset:\n",
    "\n",
    "\n",
    "resulting_feature_set.drop(columns=list(correlated_features), axis=1, inplace=True)  "
   ]
  },
  {
   "cell_type": "code",
   "execution_count": 20,
   "metadata": {},
   "outputs": [],
   "source": [
    "from sklearn.model_selection import train_test_split\n",
    "#It’s necessary to use stratify when the labels are imbalanced \n",
    "\n",
    "X_train_GBC, X_test_GBC, y_train_GBC, y_test_GBC = train_test_split(resulting_feature_set, bankdata[\"response\"], test_size=0.3, random_state=0,stratify=bankdata[\"response\"])"
   ]
  },
  {
   "cell_type": "code",
   "execution_count": 21,
   "metadata": {},
   "outputs": [
    {
     "name": "stderr",
     "output_type": "stream",
     "text": [
      "Using TensorFlow backend.\n"
     ]
    },
    {
     "name": "stdout",
     "output_type": "stream",
     "text": [
      "[(0, 25583), (1, 25583)]\n"
     ]
    }
   ],
   "source": [
    "#Dataset is imbalanced, hence trying oversampling\n",
    "#Applying Synthetic Minority Oversampling Technique (SMOTE)-applies KNN approach\n",
    "\n",
    "from imblearn.over_sampling import SMOTE\n",
    "from collections import Counter\n",
    "\n",
    "X_train_GBC, y_train_GBC = SMOTE().fit_resample(X_train_GBC, y_train_GBC)\n",
    "print(sorted(Counter(y_train_GBC).items()))"
   ]
  },
  {
   "cell_type": "code",
   "execution_count": 22,
   "metadata": {},
   "outputs": [
    {
     "name": "stdout",
     "output_type": "stream",
     "text": [
      "(51166, 47) (12357, 47)\n"
     ]
    }
   ],
   "source": [
    "print(X_train_GBC.shape,X_test_GBC.shape)"
   ]
  },
  {
   "cell_type": "code",
   "execution_count": 23,
   "metadata": {},
   "outputs": [
    {
     "data": {
      "text/plain": [
       "RandomizedSearchCV(cv=5, error_score='raise-deprecating',\n",
       "                   estimator=GradientBoostingClassifier(criterion='friedman_mse',\n",
       "                                                        init=None,\n",
       "                                                        learning_rate=0.1,\n",
       "                                                        loss='deviance',\n",
       "                                                        max_depth=3,\n",
       "                                                        max_features=None,\n",
       "                                                        max_leaf_nodes=None,\n",
       "                                                        min_impurity_decrease=0.0,\n",
       "                                                        min_impurity_split=None,\n",
       "                                                        min_samples_leaf=1,\n",
       "                                                        min_samples_split=2,\n",
       "                                                        min_weight_fraction_leaf=0.0,\n",
       "                                                        n_estimators=100,\n",
       "                                                        n_i...\n",
       "                                                        validation_fraction=0.1,\n",
       "                                                        verbose=0,\n",
       "                                                        warm_start=True),\n",
       "                   iid='warn', n_iter=6, n_jobs=-1,\n",
       "                   param_distributions={'learning_rate': [0.1, 0.2, 0.3, 1],\n",
       "                                        'loss': ['deviance'],\n",
       "                                        'max_depth': [2, 3, 6],\n",
       "                                        'max_features': ['log2', 0.5, 1.0],\n",
       "                                        'min_samples_leaf': [1, 2, 3, 10],\n",
       "                                        'n_estimators': [50, 100]},\n",
       "                   pre_dispatch='2*n_jobs', random_state=None, refit=True,\n",
       "                   return_train_score=True, scoring='roc_auc', verbose=0)"
      ]
     },
     "execution_count": 23,
     "metadata": {},
     "output_type": "execute_result"
    }
   ],
   "source": [
    "#GRIDSEARCH\n",
    "\n",
    "from sklearn.model_selection import RandomizedSearchCV\n",
    "from sklearn.ensemble import GradientBoostingClassifier\n",
    "\n",
    "param_dist = {'max_features' : ['log2',0.5,1.0],\n",
    "              'max_depth' : [2,3,6],\n",
    "              'min_samples_leaf' : [1,2,3,10],\n",
    "              'n_estimators': [50,100],\n",
    "              'learning_rate' : [0.1,0.2,0.3,1],\n",
    "              'loss' : ['deviance']\n",
    "              }\n",
    "\n",
    "classif_GBC = RandomizedSearchCV(GradientBoostingClassifier(warm_start=True),\n",
    "                              param_distributions = param_dist,\n",
    "                              cv=5,\n",
    "                              n_iter=6, n_jobs=-1,return_train_score=True,scoring='roc_auc')\n",
    "\n",
    "classif_GBC.fit(X_train_GBC,y_train_GBC)\n"
   ]
  },
  {
   "cell_type": "code",
   "execution_count": 24,
   "metadata": {},
   "outputs": [
    {
     "name": "stdout",
     "output_type": "stream",
     "text": [
      "Best parameters : {'n_estimators': 100, 'min_samples_leaf': 10, 'max_features': 0.5, 'max_depth': 3, 'loss': 'deviance', 'learning_rate': 0.2} \n",
      "\n",
      "Best score : 0.9908880888257066 \n",
      "\n",
      "Best estimator : GradientBoostingClassifier(criterion='friedman_mse', init=None,\n",
      "                           learning_rate=0.2, loss='deviance', max_depth=3,\n",
      "                           max_features=0.5, max_leaf_nodes=None,\n",
      "                           min_impurity_decrease=0.0, min_impurity_split=None,\n",
      "                           min_samples_leaf=10, min_samples_split=2,\n",
      "                           min_weight_fraction_leaf=0.0, n_estimators=100,\n",
      "                           n_iter_no_change=None, presort='auto',\n",
      "                           random_state=None, subsample=1.0, tol=0.0001,\n",
      "                           validation_fraction=0.1, verbose=0, warm_start=True) \n",
      "\n"
     ]
    },
    {
     "data": {
      "text/html": [
       "<div>\n",
       "<style scoped>\n",
       "    .dataframe tbody tr th:only-of-type {\n",
       "        vertical-align: middle;\n",
       "    }\n",
       "\n",
       "    .dataframe tbody tr th {\n",
       "        vertical-align: top;\n",
       "    }\n",
       "\n",
       "    .dataframe thead th {\n",
       "        text-align: right;\n",
       "    }\n",
       "</style>\n",
       "<table border=\"1\" class=\"dataframe\">\n",
       "  <thead>\n",
       "    <tr style=\"text-align: right;\">\n",
       "      <th></th>\n",
       "      <th>mean_fit_time</th>\n",
       "      <th>std_fit_time</th>\n",
       "      <th>mean_score_time</th>\n",
       "      <th>std_score_time</th>\n",
       "      <th>param_n_estimators</th>\n",
       "      <th>param_min_samples_leaf</th>\n",
       "      <th>param_max_features</th>\n",
       "      <th>param_max_depth</th>\n",
       "      <th>param_loss</th>\n",
       "      <th>param_learning_rate</th>\n",
       "      <th>...</th>\n",
       "      <th>mean_test_score</th>\n",
       "      <th>std_test_score</th>\n",
       "      <th>rank_test_score</th>\n",
       "      <th>split0_train_score</th>\n",
       "      <th>split1_train_score</th>\n",
       "      <th>split2_train_score</th>\n",
       "      <th>split3_train_score</th>\n",
       "      <th>split4_train_score</th>\n",
       "      <th>mean_train_score</th>\n",
       "      <th>std_train_score</th>\n",
       "    </tr>\n",
       "  </thead>\n",
       "  <tbody>\n",
       "    <tr>\n",
       "      <th>0</th>\n",
       "      <td>18.174382</td>\n",
       "      <td>3.563813</td>\n",
       "      <td>0.105792</td>\n",
       "      <td>0.017498</td>\n",
       "      <td>50</td>\n",
       "      <td>3</td>\n",
       "      <td>0.5</td>\n",
       "      <td>2</td>\n",
       "      <td>deviance</td>\n",
       "      <td>1</td>\n",
       "      <td>...</td>\n",
       "      <td>0.983576</td>\n",
       "      <td>0.030975</td>\n",
       "      <td>4</td>\n",
       "      <td>0.999944</td>\n",
       "      <td>0.989935</td>\n",
       "      <td>0.990062</td>\n",
       "      <td>0.990401</td>\n",
       "      <td>0.990416</td>\n",
       "      <td>0.992152</td>\n",
       "      <td>0.003901</td>\n",
       "    </tr>\n",
       "    <tr>\n",
       "      <th>1</th>\n",
       "      <td>8.952469</td>\n",
       "      <td>1.775615</td>\n",
       "      <td>0.120820</td>\n",
       "      <td>0.033952</td>\n",
       "      <td>50</td>\n",
       "      <td>3</td>\n",
       "      <td>log2</td>\n",
       "      <td>3</td>\n",
       "      <td>deviance</td>\n",
       "      <td>1</td>\n",
       "      <td>...</td>\n",
       "      <td>0.982167</td>\n",
       "      <td>0.033792</td>\n",
       "      <td>5</td>\n",
       "      <td>0.999962</td>\n",
       "      <td>0.989960</td>\n",
       "      <td>0.990261</td>\n",
       "      <td>0.990428</td>\n",
       "      <td>0.989645</td>\n",
       "      <td>0.992051</td>\n",
       "      <td>0.003965</td>\n",
       "    </tr>\n",
       "    <tr>\n",
       "      <th>2</th>\n",
       "      <td>8.039350</td>\n",
       "      <td>1.300482</td>\n",
       "      <td>0.122615</td>\n",
       "      <td>0.041717</td>\n",
       "      <td>50</td>\n",
       "      <td>10</td>\n",
       "      <td>log2</td>\n",
       "      <td>2</td>\n",
       "      <td>deviance</td>\n",
       "      <td>0.2</td>\n",
       "      <td>...</td>\n",
       "      <td>0.981149</td>\n",
       "      <td>0.021053</td>\n",
       "      <td>6</td>\n",
       "      <td>0.995732</td>\n",
       "      <td>0.981173</td>\n",
       "      <td>0.980758</td>\n",
       "      <td>0.982514</td>\n",
       "      <td>0.982168</td>\n",
       "      <td>0.984469</td>\n",
       "      <td>0.005668</td>\n",
       "    </tr>\n",
       "    <tr>\n",
       "      <th>3</th>\n",
       "      <td>60.372251</td>\n",
       "      <td>4.460655</td>\n",
       "      <td>0.301614</td>\n",
       "      <td>0.091867</td>\n",
       "      <td>100</td>\n",
       "      <td>10</td>\n",
       "      <td>0.5</td>\n",
       "      <td>3</td>\n",
       "      <td>deviance</td>\n",
       "      <td>0.2</td>\n",
       "      <td>...</td>\n",
       "      <td>0.990888</td>\n",
       "      <td>0.017150</td>\n",
       "      <td>1</td>\n",
       "      <td>0.999977</td>\n",
       "      <td>0.991999</td>\n",
       "      <td>0.992062</td>\n",
       "      <td>0.992209</td>\n",
       "      <td>0.992040</td>\n",
       "      <td>0.993658</td>\n",
       "      <td>0.003160</td>\n",
       "    </tr>\n",
       "    <tr>\n",
       "      <th>4</th>\n",
       "      <td>35.488487</td>\n",
       "      <td>3.836575</td>\n",
       "      <td>0.167431</td>\n",
       "      <td>0.036089</td>\n",
       "      <td>100</td>\n",
       "      <td>10</td>\n",
       "      <td>0.5</td>\n",
       "      <td>2</td>\n",
       "      <td>deviance</td>\n",
       "      <td>0.2</td>\n",
       "      <td>...</td>\n",
       "      <td>0.989376</td>\n",
       "      <td>0.018572</td>\n",
       "      <td>3</td>\n",
       "      <td>0.999787</td>\n",
       "      <td>0.989913</td>\n",
       "      <td>0.990221</td>\n",
       "      <td>0.990309</td>\n",
       "      <td>0.990307</td>\n",
       "      <td>0.992107</td>\n",
       "      <td>0.003842</td>\n",
       "    </tr>\n",
       "    <tr>\n",
       "      <th>5</th>\n",
       "      <td>32.608508</td>\n",
       "      <td>5.685079</td>\n",
       "      <td>0.184007</td>\n",
       "      <td>0.088972</td>\n",
       "      <td>100</td>\n",
       "      <td>10</td>\n",
       "      <td>0.5</td>\n",
       "      <td>2</td>\n",
       "      <td>deviance</td>\n",
       "      <td>0.3</td>\n",
       "      <td>...</td>\n",
       "      <td>0.989823</td>\n",
       "      <td>0.018778</td>\n",
       "      <td>2</td>\n",
       "      <td>0.999946</td>\n",
       "      <td>0.991030</td>\n",
       "      <td>0.990754</td>\n",
       "      <td>0.990857</td>\n",
       "      <td>0.991384</td>\n",
       "      <td>0.992794</td>\n",
       "      <td>0.003582</td>\n",
       "    </tr>\n",
       "  </tbody>\n",
       "</table>\n",
       "<p>6 rows × 26 columns</p>\n",
       "</div>"
      ],
      "text/plain": [
       "   mean_fit_time  std_fit_time  mean_score_time  std_score_time  \\\n",
       "0      18.174382      3.563813         0.105792        0.017498   \n",
       "1       8.952469      1.775615         0.120820        0.033952   \n",
       "2       8.039350      1.300482         0.122615        0.041717   \n",
       "3      60.372251      4.460655         0.301614        0.091867   \n",
       "4      35.488487      3.836575         0.167431        0.036089   \n",
       "5      32.608508      5.685079         0.184007        0.088972   \n",
       "\n",
       "  param_n_estimators param_min_samples_leaf param_max_features  \\\n",
       "0                 50                      3                0.5   \n",
       "1                 50                      3               log2   \n",
       "2                 50                     10               log2   \n",
       "3                100                     10                0.5   \n",
       "4                100                     10                0.5   \n",
       "5                100                     10                0.5   \n",
       "\n",
       "  param_max_depth param_loss param_learning_rate  ... mean_test_score  \\\n",
       "0               2   deviance                   1  ...        0.983576   \n",
       "1               3   deviance                   1  ...        0.982167   \n",
       "2               2   deviance                 0.2  ...        0.981149   \n",
       "3               3   deviance                 0.2  ...        0.990888   \n",
       "4               2   deviance                 0.2  ...        0.989376   \n",
       "5               2   deviance                 0.3  ...        0.989823   \n",
       "\n",
       "   std_test_score  rank_test_score  split0_train_score  split1_train_score  \\\n",
       "0        0.030975                4            0.999944            0.989935   \n",
       "1        0.033792                5            0.999962            0.989960   \n",
       "2        0.021053                6            0.995732            0.981173   \n",
       "3        0.017150                1            0.999977            0.991999   \n",
       "4        0.018572                3            0.999787            0.989913   \n",
       "5        0.018778                2            0.999946            0.991030   \n",
       "\n",
       "   split2_train_score  split3_train_score  split4_train_score  \\\n",
       "0            0.990062            0.990401            0.990416   \n",
       "1            0.990261            0.990428            0.989645   \n",
       "2            0.980758            0.982514            0.982168   \n",
       "3            0.992062            0.992209            0.992040   \n",
       "4            0.990221            0.990309            0.990307   \n",
       "5            0.990754            0.990857            0.991384   \n",
       "\n",
       "   mean_train_score  std_train_score  \n",
       "0          0.992152         0.003901  \n",
       "1          0.992051         0.003965  \n",
       "2          0.984469         0.005668  \n",
       "3          0.993658         0.003160  \n",
       "4          0.992107         0.003842  \n",
       "5          0.992794         0.003582  \n",
       "\n",
       "[6 rows x 26 columns]"
      ]
     },
     "execution_count": 24,
     "metadata": {},
     "output_type": "execute_result"
    }
   ],
   "source": [
    "print(\"Best parameters :\" , classif_GBC.best_params_, \"\\n\") \n",
    "print(\"Best score :\" , classif_GBC.best_score_, \"\\n\") \n",
    "print(\"Best estimator :\", classif_GBC.best_estimator_, \"\\n\")\n",
    "pd.DataFrame(classif_GBC.cv_results_)\n",
    "    "
   ]
  },
  {
   "cell_type": "code",
   "execution_count": 25,
   "metadata": {},
   "outputs": [],
   "source": [
    "GBC_model=classif_GBC.best_estimator_ #no need to fit, since previously fitted.(classif_GBC and GBC_model are same estimators)"
   ]
  },
  {
   "cell_type": "code",
   "execution_count": 26,
   "metadata": {},
   "outputs": [
    {
     "name": "stderr",
     "output_type": "stream",
     "text": [
      "C:\\Anaconda_last\\lib\\site-packages\\sklearn\\externals\\joblib\\__init__.py:15: DeprecationWarning: sklearn.externals.joblib is deprecated in 0.21 and will be removed in 0.23. Please import this functionality directly from joblib, which can be installed with: pip install joblib. If this warning is raised when loading pickled models, you may need to re-serialize those models with scikit-learn 0.21+.\n",
      "  warnings.warn(msg, category=DeprecationWarning)\n"
     ]
    },
    {
     "data": {
      "text/plain": [
       "['GBC_model.clf']"
      ]
     },
     "execution_count": 26,
     "metadata": {},
     "output_type": "execute_result"
    }
   ],
   "source": [
    "#Persisting models with joblib\n",
    "from sklearn.externals import joblib\n",
    "joblib.dump(GBC_model, \"GBC_model.clf\")\n"
   ]
  },
  {
   "cell_type": "code",
   "execution_count": 27,
   "metadata": {},
   "outputs": [
    {
     "name": "stdout",
     "output_type": "stream",
     "text": [
      "GradientBoostingClassifier(criterion='friedman_mse', init=None,\n",
      "                           learning_rate=0.2, loss='deviance', max_depth=3,\n",
      "                           max_features=0.5, max_leaf_nodes=None,\n",
      "                           min_impurity_decrease=0.0, min_impurity_split=None,\n",
      "                           min_samples_leaf=10, min_samples_split=2,\n",
      "                           min_weight_fraction_leaf=0.0, n_estimators=100,\n",
      "                           n_iter_no_change=None, presort='auto',\n",
      "                           random_state=None, subsample=1.0, tol=0.0001,\n",
      "                           validation_fraction=0.1, verbose=0, warm_start=True)\n"
     ]
    }
   ],
   "source": [
    "#Load the model with joblib. Make a prediction with a set of inputs:\n",
    "\n",
    "from sklearn.externals import joblib\n",
    "pulled_model = joblib.load(\"GBC_model.clf\")\n",
    "print(pulled_model)"
   ]
  },
  {
   "cell_type": "code",
   "execution_count": 28,
   "metadata": {},
   "outputs": [],
   "source": [
    "# Make predictions\n",
    "preds_GBC = GBC_model.predict(X= X_test_GBC)\n",
    "preds_GBC = pd.Series(preds_GBC)\n"
   ]
  },
  {
   "cell_type": "code",
   "execution_count": 29,
   "metadata": {},
   "outputs": [
    {
     "name": "stdout",
     "output_type": "stream",
     "text": [
      "Area under ROC curve = 0.75\n",
      "response     0    1   All\n",
      "row_0                    \n",
      "0         3222  126  3348\n",
      "1          357   12   369\n",
      "All       3579  138  3717\n"
     ]
    }
   ],
   "source": [
    "# ROC curve and Area-Under-Curve (AUC)\n",
    "\n",
    "fpr_GBC, tpr_GBC, _ = roc_curve(y_test_GBC, preds_GBC)\n",
    "roc_auc_GBC = auc(fpr_GBC, tpr_GBC)\n",
    "print(\"Area under ROC curve = {:0.2f}\".format(roc_auc_GBC))\n",
    "\n",
    "# Generate table of predictions\n",
    "contingency_table_GBC = pd.crosstab(preds_GBC, y_test_GBC ,margins=True)\n",
    "print(contingency_table_GBC)\n"
   ]
  },
  {
   "cell_type": "code",
   "execution_count": 27,
   "metadata": {},
   "outputs": [
    {
     "data": {
      "image/png": "[encoded data removed]",
      "text/plain": [
       "<Figure size 432x288 with 1 Axes>"
      ]
     },
     "metadata": {},
     "output_type": "display_data"
    },
    {
     "name": "stdout",
     "output_type": "stream",
     "text": [
      "AUC: 0.943\n"
     ]
    }
   ],
   "source": [
    "y_pred_prob_GBC = GBC_model.predict_proba(X_test_GBC)\n",
    "fpr, tpr, thresholds = roc_curve(y_test_GBC, y_pred_prob_GBC[:,1])\n",
    "auc_score = roc_auc_score(y_test_GBC, y_pred_prob_GBC[:,1])\n",
    "plt.plot([0, 1], [0, 1], linestyle='--')\n",
    "plt.plot(fpr, tpr, marker='.')\n",
    "plt.xlabel('fpr',fontsize='15')\n",
    "plt.ylabel('tpr',fontsize='15')\n",
    "plt.legend([\"AUC Score:\" + \"{0:.2f}\".format(auc_score)],)\n",
    "plt.show()\n",
    "\n",
    "print('AUC: %.3f' % auc_score)\n"
   ]
  },
  {
   "cell_type": "code",
   "execution_count": 30,
   "metadata": {},
   "outputs": [
    {
     "name": "stdout",
     "output_type": "stream",
     "text": [
      "Cross-validated scores: [0.9931453  0.99306308 0.99169879 0.99249008 0.99229635 0.9922141 ]\n"
     ]
    }
   ],
   "source": [
    "from sklearn.model_selection import StratifiedKFold\n",
    "\n",
    "kfold = StratifiedKFold(n_splits=6,shuffle=True,random_state=7)\n",
    "accuracy = cross_val_score(GBC_model,X_train_GBC, y_train_GBC,cv=list(kfold.split(X_train_GBC, y_train_GBC)),scoring=\"roc_auc\")\n",
    "print (\"Cross-validated scores:\", accuracy)"
   ]
  },
  {
   "cell_type": "code",
   "execution_count": 32,
   "metadata": {},
   "outputs": [
    {
     "name": "stdout",
     "output_type": "stream",
     "text": [
      "Cross-validated scores: [0.99215155 0.99252698 0.9921435  0.99270398 0.99224533 0.99258058]\n"
     ]
    }
   ],
   "source": [
    "from sklearn.model_selection import StratifiedShuffleSplit #This does not try to make folds with testing sets that are mutually exclusive\n",
    "\n",
    "sss = StratifiedShuffleSplit(n_splits = 6,test_size=0.25)\n",
    "accuracy = cross_val_score(GBC_model,X_train_GBC, y_train_GBC,cv=list(sss.split(X_train_GBC, y_train_GBC)),scoring=\"roc_auc\")\n",
    "print (\"Cross-validated scores:\", accuracy)"
   ]
  },
  {
   "cell_type": "code",
   "execution_count": 31,
   "metadata": {},
   "outputs": [
    {
     "name": "stdout",
     "output_type": "stream",
     "text": [
      "Cross-validated scores: [0.99273104 0.99254335 0.99248477 0.99270345 0.9916489  0.9930815\n",
      " 0.99298082 0.9927377  0.99292195 0.99259014]\n",
      "Accuracy: 0.99 (+/- 0.00)\n"
     ]
    }
   ],
   "source": [
    "#We do not need to call the fit method separately while using cross validation, the cross_val_score method fits the data\n",
    "#itself while implementing the cross-validation on data.\n",
    "\n",
    "from sklearn.model_selection import ShuffleSplit\n",
    "\n",
    "cv = ShuffleSplit(n_splits=10, test_size=0.3, random_state=0)\n",
    "acc_shuffle=cross_val_score(GBC_model,X_train_GBC, y_train_GBC,scoring=\"roc_auc\", cv=cv)  \n",
    "print (\"Cross-validated scores:\", acc_shuffle)  #The Accuracy of the model is the average of the accuracy of each fold.\n",
    "print(\"Accuracy: %0.2f (+/- %0.2f)\" % (acc_shuffle.mean(), acc_shuffle.std() * 2))\n"
   ]
  },
  {
   "cell_type": "code",
   "execution_count": 33,
   "metadata": {},
   "outputs": [
    {
     "name": "stdout",
     "output_type": "stream",
     "text": [
      "Cross-validated scores: [0.94477028 0.97209622 0.99977846 0.99962512 0.999692   0.99946892\n",
      " 0.99974348 0.99961874 0.99956726 0.99957452 0.99954922 0.99941667]\n",
      "Accuracy: 0.99 (+/- 0.03)\n"
     ]
    }
   ],
   "source": [
    "#OR >>\n",
    "roc_accuracy = cross_val_score(GBC_model,X_train_GBC, y_train_GBC,scoring=\"roc_auc\", cv=12)\n",
    "print (\"Cross-validated scores:\", roc_accuracy)  #he Accuracy of the model is the average of the accuracy of each fold.\n",
    "print(\"Accuracy: %0.2f (+/- %0.2f)\" % (roc_accuracy.mean(), roc_accuracy.std() * 2))"
   ]
  },
  {
   "cell_type": "code",
   "execution_count": 39,
   "metadata": {},
   "outputs": [
    {
     "data": {
      "image/png": "[encoded data removed]",
      "text/plain": [
       "<Figure size 1440x1152 with 1 Axes>"
      ]
     },
     "metadata": {},
     "output_type": "display_data"
    }
   ],
   "source": [
    "#Receiver Operating Characteristic (ROC) with cross validation\n",
    "from scipy import interp\n",
    "from sklearn.model_selection import StratifiedKFold\n",
    "\n",
    "cv = StratifiedKFold(n_splits=6)\n",
    "tprs = []\n",
    "aucs = []\n",
    "mean_fpr = np.linspace(0, 1, 100)\n",
    "plt.figure(figsize=(20,16))\n",
    "\n",
    "i = 0\n",
    "for train, test in cv.split(X_train_GBC, y_train_GBC):\n",
    "    probas_ = GBC_model.fit(X_train_GBC[train], y_train_GBC[train]).predict_proba(X_train_GBC[test])\n",
    "    # Compute ROC curve and area the curve\n",
    "    fpr, tpr, thresholds = roc_curve(y_train_GBC[test], probas_[:, 1])\n",
    "    tprs.append(interp(mean_fpr, fpr, tpr))\n",
    "    tprs[-1][0] = 0.0\n",
    "    roc_auc = auc(fpr, tpr)\n",
    "    aucs.append(roc_auc)\n",
    "    plt.plot(fpr, tpr, lw=1, alpha=0.3,\n",
    "             label='ROC fold %d (AUC = %0.2f)' % (i, roc_auc))\n",
    "\n",
    "    i += 1\n",
    "\n",
    "\n",
    "plt.plot([0, 1], [0, 1], linestyle='--', lw=2, color='r',\n",
    "         label='Chance', alpha=.8)\n",
    "\n",
    "mean_tpr = np.mean(tprs, axis=0)\n",
    "mean_tpr[-1] = 1.0\n",
    "mean_auc = auc(mean_fpr, mean_tpr)\n",
    "std_auc = np.std(aucs)\n",
    "plt.plot(mean_fpr, mean_tpr, color='b',\n",
    "         label=r'Mean ROC (AUC = %0.2f $\\pm$ %0.2f)' % (mean_auc, std_auc),\n",
    "         lw=2, alpha=.8)\n",
    "\n",
    "std_tpr = np.std(tprs, axis=0)\n",
    "tprs_upper = np.minimum(mean_tpr + std_tpr, 1)\n",
    "tprs_lower = np.maximum(mean_tpr - std_tpr, 0)\n",
    "plt.fill_between(mean_fpr, tprs_lower, tprs_upper, color='grey', alpha=.2,\n",
    "                 label=r'$\\pm$ 1 std. dev.')\n",
    "\n",
    "plt.xlim([-0.05, 1.05])\n",
    "plt.ylim([-0.05, 1.05])\n",
    "plt.xlabel('False Positive Rate')\n",
    "plt.ylabel('True Positive Rate')\n",
    "plt.title('Receiver operating characteristic')\n",
    "plt.legend(loc=\"lower right\")\n",
    "plt.show()"
   ]
  }
 ],
 "metadata": {
  "kernelspec": {
   "display_name": "Python 3",
   "language": "python",
   "name": "python3"
  },
  "language_info": {
   "codemirror_mode": {
    "name": "ipython",
    "version": 3
   },
   "file_extension": ".py",
   "mimetype": "text/x-python",
   "name": "python",
   "nbconvert_exporter": "python",
   "pygments_lexer": "ipython3",
   "version": "3.7.3"
  }
 },
 "nbformat": 4,
 "nbformat_minor": 2
}
