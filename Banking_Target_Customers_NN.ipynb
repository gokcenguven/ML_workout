{
 "cells": [
  {
   "cell_type": "code",
   "execution_count": 1,
   "metadata": {},
   "outputs": [
    {
     "name": "stderr",
     "output_type": "stream",
     "text": [
      "Using TensorFlow backend.\n"
     ]
    }
   ],
   "source": [
    "import pandas as pd\n",
    "import numpy as np\n",
    "import keras\n",
    "from keras import models\n",
    "from keras import layers\n",
    "from keras import optimizers\n",
    "import keras_metrics as km\n",
    "import matplotlib as mpl\n",
    "import matplotlib.pyplot as plt\n",
    "\n",
    "from sklearn.metrics import classification_report, confusion_matrix, roc_curve, auc, roc_auc_score, precision_score, recall_score, f1_score,cohen_kappa_score\n",
    "\n",
    "%matplotlib inline\n",
    "plt.style.use('seaborn-white')"
   ]
  },
  {
   "cell_type": "code",
   "execution_count": 2,
   "metadata": {},
   "outputs": [],
   "source": [
    "dataset=\"bank-additional-full.csv\"\n",
    "bankdata=pd.read_csv(dataset, delimiter=\";\")\n",
    "bankdata[\"response\"] = bankdata.y.map({'no':0, 'yes':1})\n",
    "\n",
    "bankdata.drop([\"y\"],axis=1, inplace=True)\n"
   ]
  },
  {
   "cell_type": "code",
   "execution_count": 3,
   "metadata": {},
   "outputs": [
    {
     "data": {
      "text/html": [
       "<div>\n",
       "<style scoped>\n",
       "    .dataframe tbody tr th:only-of-type {\n",
       "        vertical-align: middle;\n",
       "    }\n",
       "\n",
       "    .dataframe tbody tr th {\n",
       "        vertical-align: top;\n",
       "    }\n",
       "\n",
       "    .dataframe thead th {\n",
       "        text-align: right;\n",
       "    }\n",
       "</style>\n",
       "<table border=\"1\" class=\"dataframe\">\n",
       "  <thead>\n",
       "    <tr style=\"text-align: right;\">\n",
       "      <th></th>\n",
       "      <th>age</th>\n",
       "      <th>job</th>\n",
       "      <th>marital</th>\n",
       "      <th>education</th>\n",
       "      <th>default</th>\n",
       "      <th>housing</th>\n",
       "      <th>loan</th>\n",
       "      <th>contact</th>\n",
       "      <th>month</th>\n",
       "      <th>day_of_week</th>\n",
       "      <th>...</th>\n",
       "      <th>campaign</th>\n",
       "      <th>pdays</th>\n",
       "      <th>previous</th>\n",
       "      <th>poutcome</th>\n",
       "      <th>emp.var.rate</th>\n",
       "      <th>cons.price.idx</th>\n",
       "      <th>cons.conf.idx</th>\n",
       "      <th>euribor3m</th>\n",
       "      <th>nr.employed</th>\n",
       "      <th>response</th>\n",
       "    </tr>\n",
       "  </thead>\n",
       "  <tbody>\n",
       "    <tr>\n",
       "      <th>0</th>\n",
       "      <td>56</td>\n",
       "      <td>housemaid</td>\n",
       "      <td>married</td>\n",
       "      <td>basic.4y</td>\n",
       "      <td>no</td>\n",
       "      <td>no</td>\n",
       "      <td>no</td>\n",
       "      <td>telephone</td>\n",
       "      <td>may</td>\n",
       "      <td>mon</td>\n",
       "      <td>...</td>\n",
       "      <td>1</td>\n",
       "      <td>999</td>\n",
       "      <td>0</td>\n",
       "      <td>nonexistent</td>\n",
       "      <td>1.1</td>\n",
       "      <td>93.994</td>\n",
       "      <td>-36.4</td>\n",
       "      <td>4.857</td>\n",
       "      <td>5191.0</td>\n",
       "      <td>0</td>\n",
       "    </tr>\n",
       "    <tr>\n",
       "      <th>1</th>\n",
       "      <td>57</td>\n",
       "      <td>services</td>\n",
       "      <td>married</td>\n",
       "      <td>high.school</td>\n",
       "      <td>unknown</td>\n",
       "      <td>no</td>\n",
       "      <td>no</td>\n",
       "      <td>telephone</td>\n",
       "      <td>may</td>\n",
       "      <td>mon</td>\n",
       "      <td>...</td>\n",
       "      <td>1</td>\n",
       "      <td>999</td>\n",
       "      <td>0</td>\n",
       "      <td>nonexistent</td>\n",
       "      <td>1.1</td>\n",
       "      <td>93.994</td>\n",
       "      <td>-36.4</td>\n",
       "      <td>4.857</td>\n",
       "      <td>5191.0</td>\n",
       "      <td>0</td>\n",
       "    </tr>\n",
       "  </tbody>\n",
       "</table>\n",
       "<p>2 rows × 21 columns</p>\n",
       "</div>"
      ],
      "text/plain": [
       "   age        job  marital    education  default housing loan    contact  \\\n",
       "0   56  housemaid  married     basic.4y       no      no   no  telephone   \n",
       "1   57   services  married  high.school  unknown      no   no  telephone   \n",
       "\n",
       "  month day_of_week  ...  campaign  pdays  previous     poutcome emp.var.rate  \\\n",
       "0   may         mon  ...         1    999         0  nonexistent          1.1   \n",
       "1   may         mon  ...         1    999         0  nonexistent          1.1   \n",
       "\n",
       "   cons.price.idx  cons.conf.idx  euribor3m  nr.employed  response  \n",
       "0          93.994          -36.4      4.857       5191.0         0  \n",
       "1          93.994          -36.4      4.857       5191.0         0  \n",
       "\n",
       "[2 rows x 21 columns]"
      ]
     },
     "execution_count": 3,
     "metadata": {},
     "output_type": "execute_result"
    }
   ],
   "source": [
    "bankdata.head(2)"
   ]
  },
  {
   "cell_type": "code",
   "execution_count": 4,
   "metadata": {},
   "outputs": [
    {
     "name": "stdout",
     "output_type": "stream",
     "text": [
      "<class 'pandas.core.frame.DataFrame'>\n",
      "RangeIndex: 41188 entries, 0 to 41187\n",
      "Data columns (total 10 columns):\n",
      "job            41188 non-null object\n",
      "marital        41188 non-null object\n",
      "education      41188 non-null object\n",
      "default        41188 non-null object\n",
      "housing        41188 non-null object\n",
      "loan           41188 non-null object\n",
      "contact        41188 non-null object\n",
      "month          41188 non-null object\n",
      "day_of_week    41188 non-null object\n",
      "poutcome       41188 non-null object\n",
      "dtypes: object(10)\n",
      "memory usage: 3.1+ MB\n"
     ]
    }
   ],
   "source": [
    "cat_bankdata = bankdata.select_dtypes(include=['object']).copy() #dataframe of columns with object type columns\n",
    "int_float_bankdata= bankdata.select_dtypes(include=['int64','float64']).copy() #dataframe of columns with int64,float64 type columns\n",
    "cat_bankdata.info()\n"
   ]
  },
  {
   "cell_type": "code",
   "execution_count": 5,
   "metadata": {},
   "outputs": [
    {
     "data": {
      "text/html": [
       "<div>\n",
       "<style scoped>\n",
       "    .dataframe tbody tr th:only-of-type {\n",
       "        vertical-align: middle;\n",
       "    }\n",
       "\n",
       "    .dataframe tbody tr th {\n",
       "        vertical-align: top;\n",
       "    }\n",
       "\n",
       "    .dataframe thead th {\n",
       "        text-align: right;\n",
       "    }\n",
       "</style>\n",
       "<table border=\"1\" class=\"dataframe\">\n",
       "  <thead>\n",
       "    <tr style=\"text-align: right;\">\n",
       "      <th></th>\n",
       "      <th>job</th>\n",
       "      <th>marital</th>\n",
       "      <th>education</th>\n",
       "      <th>default</th>\n",
       "      <th>housing</th>\n",
       "      <th>loan</th>\n",
       "      <th>contact</th>\n",
       "      <th>month</th>\n",
       "      <th>day_of_week</th>\n",
       "      <th>poutcome</th>\n",
       "    </tr>\n",
       "  </thead>\n",
       "  <tbody>\n",
       "    <tr>\n",
       "      <th>0</th>\n",
       "      <td>3</td>\n",
       "      <td>1</td>\n",
       "      <td>0</td>\n",
       "      <td>0</td>\n",
       "      <td>0</td>\n",
       "      <td>0</td>\n",
       "      <td>1</td>\n",
       "      <td>6</td>\n",
       "      <td>1</td>\n",
       "      <td>1</td>\n",
       "    </tr>\n",
       "    <tr>\n",
       "      <th>1</th>\n",
       "      <td>7</td>\n",
       "      <td>1</td>\n",
       "      <td>3</td>\n",
       "      <td>1</td>\n",
       "      <td>0</td>\n",
       "      <td>0</td>\n",
       "      <td>1</td>\n",
       "      <td>6</td>\n",
       "      <td>1</td>\n",
       "      <td>1</td>\n",
       "    </tr>\n",
       "    <tr>\n",
       "      <th>2</th>\n",
       "      <td>7</td>\n",
       "      <td>1</td>\n",
       "      <td>3</td>\n",
       "      <td>0</td>\n",
       "      <td>2</td>\n",
       "      <td>0</td>\n",
       "      <td>1</td>\n",
       "      <td>6</td>\n",
       "      <td>1</td>\n",
       "      <td>1</td>\n",
       "    </tr>\n",
       "    <tr>\n",
       "      <th>3</th>\n",
       "      <td>0</td>\n",
       "      <td>1</td>\n",
       "      <td>1</td>\n",
       "      <td>0</td>\n",
       "      <td>0</td>\n",
       "      <td>0</td>\n",
       "      <td>1</td>\n",
       "      <td>6</td>\n",
       "      <td>1</td>\n",
       "      <td>1</td>\n",
       "    </tr>\n",
       "    <tr>\n",
       "      <th>4</th>\n",
       "      <td>7</td>\n",
       "      <td>1</td>\n",
       "      <td>3</td>\n",
       "      <td>0</td>\n",
       "      <td>0</td>\n",
       "      <td>2</td>\n",
       "      <td>1</td>\n",
       "      <td>6</td>\n",
       "      <td>1</td>\n",
       "      <td>1</td>\n",
       "    </tr>\n",
       "  </tbody>\n",
       "</table>\n",
       "</div>"
      ],
      "text/plain": [
       "   job  marital  education  default  housing  loan  contact  month  \\\n",
       "0    3        1          0        0        0     0        1      6   \n",
       "1    7        1          3        1        0     0        1      6   \n",
       "2    7        1          3        0        2     0        1      6   \n",
       "3    0        1          1        0        0     0        1      6   \n",
       "4    7        1          3        0        0     2        1      6   \n",
       "\n",
       "   day_of_week  poutcome  \n",
       "0            1         1  \n",
       "1            1         1  \n",
       "2            1         1  \n",
       "3            1         1  \n",
       "4            1         1  "
      ]
     },
     "execution_count": 5,
     "metadata": {},
     "output_type": "execute_result"
    }
   ],
   "source": [
    "#converting categories into numeric types (numeric encoding)\n",
    "\n",
    "cat_column=cat_bankdata.columns.tolist()\n",
    "\n",
    "for i in cat_column:\n",
    "    cat_bankdata[i] = cat_bankdata[i].astype('category')\n",
    "    cat_bankdata[i] = cat_bankdata[i].cat.codes\n",
    "    \n",
    "cat_bankdata.head()    "
   ]
  },
  {
   "cell_type": "code",
   "execution_count": 6,
   "metadata": {},
   "outputs": [],
   "source": [
    "#creating dummy variables from categorical features (One-Hot encoding)>> this has the benefit of not weighting a value improperly.\n",
    "#sklearn has \"LabelBinarizer\" class for one- hot encoding\n",
    "\n",
    "cat_bankdata_dummy = cat_bankdata.copy()\n",
    "cat_column_list=cat_bankdata.columns.tolist()\n",
    "\n",
    "cat_bankdata_dummy = pd.get_dummies(cat_bankdata_dummy, columns=cat_column_list, prefix = cat_column_list, drop_first=True)"
   ]
  },
  {
   "cell_type": "code",
   "execution_count": 101,
   "metadata": {},
   "outputs": [
    {
     "name": "stdout",
     "output_type": "stream",
     "text": [
      "0\n"
     ]
    }
   ],
   "source": [
    "print(cat_bankdata.isnull().values.sum()) #checking for the null values"
   ]
  },
  {
   "cell_type": "code",
   "execution_count": 7,
   "metadata": {},
   "outputs": [
    {
     "name": "stdout",
     "output_type": "stream",
     "text": [
      "Index(['age', 'duration', 'campaign', 'pdays', 'previous', 'emp.var.rate',\n",
      "       'cons.price.idx', 'cons.conf.idx', 'euribor3m', 'nr.employed'],\n",
      "      dtype='object')\n"
     ]
    },
    {
     "data": {
      "text/html": [
       "<div>\n",
       "<style scoped>\n",
       "    .dataframe tbody tr th:only-of-type {\n",
       "        vertical-align: middle;\n",
       "    }\n",
       "\n",
       "    .dataframe tbody tr th {\n",
       "        vertical-align: top;\n",
       "    }\n",
       "\n",
       "    .dataframe thead th {\n",
       "        text-align: right;\n",
       "    }\n",
       "</style>\n",
       "<table border=\"1\" class=\"dataframe\">\n",
       "  <thead>\n",
       "    <tr style=\"text-align: right;\">\n",
       "      <th></th>\n",
       "      <th>age</th>\n",
       "      <th>duration</th>\n",
       "      <th>campaign</th>\n",
       "      <th>pdays</th>\n",
       "      <th>previous</th>\n",
       "      <th>emp.var.rate</th>\n",
       "      <th>cons.price.idx</th>\n",
       "      <th>cons.conf.idx</th>\n",
       "      <th>euribor3m</th>\n",
       "      <th>nr.employed</th>\n",
       "    </tr>\n",
       "  </thead>\n",
       "  <tbody>\n",
       "    <tr>\n",
       "      <th>0</th>\n",
       "      <td>56</td>\n",
       "      <td>261</td>\n",
       "      <td>1</td>\n",
       "      <td>999</td>\n",
       "      <td>0</td>\n",
       "      <td>1.1</td>\n",
       "      <td>93.994</td>\n",
       "      <td>-36.4</td>\n",
       "      <td>4.857</td>\n",
       "      <td>5191.0</td>\n",
       "    </tr>\n",
       "    <tr>\n",
       "      <th>1</th>\n",
       "      <td>57</td>\n",
       "      <td>149</td>\n",
       "      <td>1</td>\n",
       "      <td>999</td>\n",
       "      <td>0</td>\n",
       "      <td>1.1</td>\n",
       "      <td>93.994</td>\n",
       "      <td>-36.4</td>\n",
       "      <td>4.857</td>\n",
       "      <td>5191.0</td>\n",
       "    </tr>\n",
       "    <tr>\n",
       "      <th>2</th>\n",
       "      <td>37</td>\n",
       "      <td>226</td>\n",
       "      <td>1</td>\n",
       "      <td>999</td>\n",
       "      <td>0</td>\n",
       "      <td>1.1</td>\n",
       "      <td>93.994</td>\n",
       "      <td>-36.4</td>\n",
       "      <td>4.857</td>\n",
       "      <td>5191.0</td>\n",
       "    </tr>\n",
       "    <tr>\n",
       "      <th>3</th>\n",
       "      <td>40</td>\n",
       "      <td>151</td>\n",
       "      <td>1</td>\n",
       "      <td>999</td>\n",
       "      <td>0</td>\n",
       "      <td>1.1</td>\n",
       "      <td>93.994</td>\n",
       "      <td>-36.4</td>\n",
       "      <td>4.857</td>\n",
       "      <td>5191.0</td>\n",
       "    </tr>\n",
       "    <tr>\n",
       "      <th>4</th>\n",
       "      <td>56</td>\n",
       "      <td>307</td>\n",
       "      <td>1</td>\n",
       "      <td>999</td>\n",
       "      <td>0</td>\n",
       "      <td>1.1</td>\n",
       "      <td>93.994</td>\n",
       "      <td>-36.4</td>\n",
       "      <td>4.857</td>\n",
       "      <td>5191.0</td>\n",
       "    </tr>\n",
       "  </tbody>\n",
       "</table>\n",
       "</div>"
      ],
      "text/plain": [
       "   age  duration  campaign  pdays  previous  emp.var.rate  cons.price.idx  \\\n",
       "0   56       261         1    999         0           1.1          93.994   \n",
       "1   57       149         1    999         0           1.1          93.994   \n",
       "2   37       226         1    999         0           1.1          93.994   \n",
       "3   40       151         1    999         0           1.1          93.994   \n",
       "4   56       307         1    999         0           1.1          93.994   \n",
       "\n",
       "   cons.conf.idx  euribor3m  nr.employed  \n",
       "0          -36.4      4.857       5191.0  \n",
       "1          -36.4      4.857       5191.0  \n",
       "2          -36.4      4.857       5191.0  \n",
       "3          -36.4      4.857       5191.0  \n",
       "4          -36.4      4.857       5191.0  "
      ]
     },
     "execution_count": 7,
     "metadata": {},
     "output_type": "execute_result"
    }
   ],
   "source": [
    "#remove constant features from a dataset\n",
    "\n",
    "from sklearn.feature_selection import VarianceThreshold\n",
    "\n",
    "#EX/ threshold=0.1 which means that if the variance of the values in a column is less than 0.1, remove those columns.\n",
    "#In other words, remove feature column where approximately 99% of the values are similar.\n",
    "\n",
    "variance_filter = VarianceThreshold(threshold=0.1)\n",
    "variance_filter.fit(int_float_bankdata)  \n",
    "\n",
    "#Now to get all the features that are NOT CONSTANT, we can use the get_support() method of the filter\n",
    "print(int_float_bankdata.columns[variance_filter.get_support()])\n",
    "\n",
    "#Get the number of constant features with the help of the following script:\n",
    "constant_columns = [column for column in int_float_bankdata.columns  \n",
    "                    if column not in int_float_bankdata.columns[variance_filter.get_support()]]\n",
    "\n",
    "int_float_bankdata_filtered=int_float_bankdata[int_float_bankdata.columns[variance_filter.get_support()]]\n",
    "\n",
    "int_float_bankdata_filtered.head()  #not include \"response\""
   ]
  },
  {
   "cell_type": "code",
   "execution_count": 8,
   "metadata": {},
   "outputs": [
    {
     "name": "stdout",
     "output_type": "stream",
     "text": [
      "['response']\n"
     ]
    }
   ],
   "source": [
    "print(constant_columns)"
   ]
  },
  {
   "cell_type": "code",
   "execution_count": 8,
   "metadata": {
    "scrolled": true
   },
   "outputs": [
    {
     "name": "stdout",
     "output_type": "stream",
     "text": [
      "                     age  duration  campaign     pdays  previous  \\\n",
      "age             1.000000 -0.000866  0.004594 -0.034369  0.024365   \n",
      "duration       -0.000866  1.000000 -0.071699 -0.047577  0.020640   \n",
      "campaign        0.004594 -0.071699  1.000000  0.052584 -0.079141   \n",
      "pdays          -0.034369 -0.047577  0.052584  1.000000 -0.587514   \n",
      "previous        0.024365  0.020640 -0.079141 -0.587514  1.000000   \n",
      "emp.var.rate   -0.000371 -0.027968  0.150754  0.271004 -0.420489   \n",
      "cons.price.idx  0.000857  0.005312  0.127836  0.078889 -0.203130   \n",
      "cons.conf.idx   0.129372 -0.008173 -0.013733 -0.091342 -0.050936   \n",
      "euribor3m       0.010767 -0.032897  0.135133  0.296899 -0.454494   \n",
      "nr.employed    -0.017725 -0.044703  0.144095  0.372605 -0.501333   \n",
      "response        0.030399  0.405274 -0.066357 -0.324914  0.230181   \n",
      "\n",
      "                emp.var.rate  cons.price.idx  cons.conf.idx  euribor3m  \\\n",
      "age                -0.000371        0.000857       0.129372   0.010767   \n",
      "duration           -0.027968        0.005312      -0.008173  -0.032897   \n",
      "campaign            0.150754        0.127836      -0.013733   0.135133   \n",
      "pdays               0.271004        0.078889      -0.091342   0.296899   \n",
      "previous           -0.420489       -0.203130      -0.050936  -0.454494   \n",
      "emp.var.rate        1.000000        0.775334       0.196041   0.972245   \n",
      "cons.price.idx      0.775334        1.000000       0.058986   0.688230   \n",
      "cons.conf.idx       0.196041        0.058986       1.000000   0.277686   \n",
      "euribor3m           0.972245        0.688230       0.277686   1.000000   \n",
      "nr.employed         0.906970        0.522034       0.100513   0.945154   \n",
      "response           -0.298334       -0.136211       0.054878  -0.307771   \n",
      "\n",
      "                nr.employed  response  \n",
      "age               -0.017725  0.030399  \n",
      "duration          -0.044703  0.405274  \n",
      "campaign           0.144095 -0.066357  \n",
      "pdays              0.372605 -0.324914  \n",
      "previous          -0.501333  0.230181  \n",
      "emp.var.rate       0.906970 -0.298334  \n",
      "cons.price.idx     0.522034 -0.136211  \n",
      "cons.conf.idx      0.100513  0.054878  \n",
      "euribor3m          0.945154 -0.307771  \n",
      "nr.employed        1.000000 -0.354678  \n",
      "response          -0.354678  1.000000  \n"
     ]
    }
   ],
   "source": [
    "#Removing Correlated Features\n",
    "correlated_features = set()   #creating empty set\n",
    "correlation_matrix = int_float_bankdata.corr()  \n",
    "\n",
    "for i in range(len(correlation_matrix.columns)):  \n",
    "    for j in range(i):\n",
    "        if abs(correlation_matrix.iloc[i, j]) > 0.8:\n",
    "            colname = correlation_matrix.columns[i]\n",
    "            correlated_features.add(colname)\n",
    "\n",
    "print(correlation_matrix)\n",
    "\n",
    "int_float_bankdata.drop(columns=list(correlated_features), axis=1, inplace=True)  \n"
   ]
  },
  {
   "cell_type": "code",
   "execution_count": 9,
   "metadata": {},
   "outputs": [
    {
     "name": "stdout",
     "output_type": "stream",
     "text": [
      "   job_1  job_2  job_3  job_4  job_5  job_6  job_7  job_8  job_9  job_10  ...  \\\n",
      "0      0      0      1      0      0      0      0      0      0       0  ...   \n",
      "1      0      0      0      0      0      0      1      0      0       0  ...   \n",
      "2      0      0      0      0      0      0      1      0      0       0  ...   \n",
      "3      0      0      0      0      0      0      0      0      0       0  ...   \n",
      "4      0      0      0      0      0      0      1      0      0       0  ...   \n",
      "\n",
      "   poutcome_1  poutcome_2  age  duration  campaign  pdays  previous  \\\n",
      "0           1           0   56       261         1    999         0   \n",
      "1           1           0   57       149         1    999         0   \n",
      "2           1           0   37       226         1    999         0   \n",
      "3           1           0   40       151         1    999         0   \n",
      "4           1           0   56       307         1    999         0   \n",
      "\n",
      "   emp.var.rate  cons.price.idx  cons.conf.idx  \n",
      "0           1.1          93.994          -36.4  \n",
      "1           1.1          93.994          -36.4  \n",
      "2           1.1          93.994          -36.4  \n",
      "3           1.1          93.994          -36.4  \n",
      "4           1.1          93.994          -36.4  \n",
      "\n",
      "[5 rows x 51 columns]\n"
     ]
    }
   ],
   "source": [
    "resulting_bankdata = pd.concat([cat_bankdata_dummy, int_float_bankdata], axis=1)\n",
    "resulting_feature_set=resulting_bankdata.drop([\"response\"],axis=1) #response variable (target variable) excluded\n",
    "print(resulting_feature_set.head())"
   ]
  },
  {
   "cell_type": "code",
   "execution_count": 11,
   "metadata": {},
   "outputs": [
    {
     "data": {
      "text/html": [
       "<div>\n",
       "<style scoped>\n",
       "    .dataframe tbody tr th:only-of-type {\n",
       "        vertical-align: middle;\n",
       "    }\n",
       "\n",
       "    .dataframe tbody tr th {\n",
       "        vertical-align: top;\n",
       "    }\n",
       "\n",
       "    .dataframe thead th {\n",
       "        text-align: right;\n",
       "    }\n",
       "</style>\n",
       "<table border=\"1\" class=\"dataframe\">\n",
       "  <thead>\n",
       "    <tr style=\"text-align: right;\">\n",
       "      <th></th>\n",
       "      <th>job_1</th>\n",
       "      <th>job_2</th>\n",
       "      <th>job_3</th>\n",
       "      <th>job_4</th>\n",
       "      <th>job_5</th>\n",
       "      <th>job_6</th>\n",
       "      <th>job_7</th>\n",
       "      <th>job_8</th>\n",
       "      <th>job_9</th>\n",
       "      <th>job_10</th>\n",
       "      <th>...</th>\n",
       "      <th>poutcome_2</th>\n",
       "      <th>age</th>\n",
       "      <th>duration</th>\n",
       "      <th>campaign</th>\n",
       "      <th>pdays</th>\n",
       "      <th>previous</th>\n",
       "      <th>emp.var.rate</th>\n",
       "      <th>cons.price.idx</th>\n",
       "      <th>cons.conf.idx</th>\n",
       "      <th>response</th>\n",
       "    </tr>\n",
       "  </thead>\n",
       "  <tbody>\n",
       "    <tr>\n",
       "      <th>count</th>\n",
       "      <td>41188.000000</td>\n",
       "      <td>41188.000000</td>\n",
       "      <td>41188.000000</td>\n",
       "      <td>41188.000000</td>\n",
       "      <td>41188.000000</td>\n",
       "      <td>41188.000000</td>\n",
       "      <td>41188.000000</td>\n",
       "      <td>41188.000000</td>\n",
       "      <td>41188.000000</td>\n",
       "      <td>41188.000000</td>\n",
       "      <td>...</td>\n",
       "      <td>41188.000000</td>\n",
       "      <td>41188.00000</td>\n",
       "      <td>41188.000000</td>\n",
       "      <td>41188.000000</td>\n",
       "      <td>41188.000000</td>\n",
       "      <td>41188.000000</td>\n",
       "      <td>41188.000000</td>\n",
       "      <td>41188.000000</td>\n",
       "      <td>41188.000000</td>\n",
       "      <td>41188.000000</td>\n",
       "    </tr>\n",
       "    <tr>\n",
       "      <th>mean</th>\n",
       "      <td>0.224677</td>\n",
       "      <td>0.035350</td>\n",
       "      <td>0.025736</td>\n",
       "      <td>0.070992</td>\n",
       "      <td>0.041760</td>\n",
       "      <td>0.034500</td>\n",
       "      <td>0.096363</td>\n",
       "      <td>0.021244</td>\n",
       "      <td>0.163713</td>\n",
       "      <td>0.024619</td>\n",
       "      <td>...</td>\n",
       "      <td>0.033335</td>\n",
       "      <td>40.02406</td>\n",
       "      <td>258.285010</td>\n",
       "      <td>2.567593</td>\n",
       "      <td>962.475454</td>\n",
       "      <td>0.172963</td>\n",
       "      <td>0.081886</td>\n",
       "      <td>93.575664</td>\n",
       "      <td>-40.502600</td>\n",
       "      <td>0.112654</td>\n",
       "    </tr>\n",
       "    <tr>\n",
       "      <th>std</th>\n",
       "      <td>0.417375</td>\n",
       "      <td>0.184665</td>\n",
       "      <td>0.158348</td>\n",
       "      <td>0.256814</td>\n",
       "      <td>0.200042</td>\n",
       "      <td>0.182513</td>\n",
       "      <td>0.295092</td>\n",
       "      <td>0.144199</td>\n",
       "      <td>0.370019</td>\n",
       "      <td>0.154962</td>\n",
       "      <td>...</td>\n",
       "      <td>0.179512</td>\n",
       "      <td>10.42125</td>\n",
       "      <td>259.279249</td>\n",
       "      <td>2.770014</td>\n",
       "      <td>186.910907</td>\n",
       "      <td>0.494901</td>\n",
       "      <td>1.570960</td>\n",
       "      <td>0.578840</td>\n",
       "      <td>4.628198</td>\n",
       "      <td>0.316173</td>\n",
       "    </tr>\n",
       "    <tr>\n",
       "      <th>min</th>\n",
       "      <td>0.000000</td>\n",
       "      <td>0.000000</td>\n",
       "      <td>0.000000</td>\n",
       "      <td>0.000000</td>\n",
       "      <td>0.000000</td>\n",
       "      <td>0.000000</td>\n",
       "      <td>0.000000</td>\n",
       "      <td>0.000000</td>\n",
       "      <td>0.000000</td>\n",
       "      <td>0.000000</td>\n",
       "      <td>...</td>\n",
       "      <td>0.000000</td>\n",
       "      <td>17.00000</td>\n",
       "      <td>0.000000</td>\n",
       "      <td>1.000000</td>\n",
       "      <td>0.000000</td>\n",
       "      <td>0.000000</td>\n",
       "      <td>-3.400000</td>\n",
       "      <td>92.201000</td>\n",
       "      <td>-50.800000</td>\n",
       "      <td>0.000000</td>\n",
       "    </tr>\n",
       "    <tr>\n",
       "      <th>25%</th>\n",
       "      <td>0.000000</td>\n",
       "      <td>0.000000</td>\n",
       "      <td>0.000000</td>\n",
       "      <td>0.000000</td>\n",
       "      <td>0.000000</td>\n",
       "      <td>0.000000</td>\n",
       "      <td>0.000000</td>\n",
       "      <td>0.000000</td>\n",
       "      <td>0.000000</td>\n",
       "      <td>0.000000</td>\n",
       "      <td>...</td>\n",
       "      <td>0.000000</td>\n",
       "      <td>32.00000</td>\n",
       "      <td>102.000000</td>\n",
       "      <td>1.000000</td>\n",
       "      <td>999.000000</td>\n",
       "      <td>0.000000</td>\n",
       "      <td>-1.800000</td>\n",
       "      <td>93.075000</td>\n",
       "      <td>-42.700000</td>\n",
       "      <td>0.000000</td>\n",
       "    </tr>\n",
       "    <tr>\n",
       "      <th>50%</th>\n",
       "      <td>0.000000</td>\n",
       "      <td>0.000000</td>\n",
       "      <td>0.000000</td>\n",
       "      <td>0.000000</td>\n",
       "      <td>0.000000</td>\n",
       "      <td>0.000000</td>\n",
       "      <td>0.000000</td>\n",
       "      <td>0.000000</td>\n",
       "      <td>0.000000</td>\n",
       "      <td>0.000000</td>\n",
       "      <td>...</td>\n",
       "      <td>0.000000</td>\n",
       "      <td>38.00000</td>\n",
       "      <td>180.000000</td>\n",
       "      <td>2.000000</td>\n",
       "      <td>999.000000</td>\n",
       "      <td>0.000000</td>\n",
       "      <td>1.100000</td>\n",
       "      <td>93.749000</td>\n",
       "      <td>-41.800000</td>\n",
       "      <td>0.000000</td>\n",
       "    </tr>\n",
       "    <tr>\n",
       "      <th>75%</th>\n",
       "      <td>0.000000</td>\n",
       "      <td>0.000000</td>\n",
       "      <td>0.000000</td>\n",
       "      <td>0.000000</td>\n",
       "      <td>0.000000</td>\n",
       "      <td>0.000000</td>\n",
       "      <td>0.000000</td>\n",
       "      <td>0.000000</td>\n",
       "      <td>0.000000</td>\n",
       "      <td>0.000000</td>\n",
       "      <td>...</td>\n",
       "      <td>0.000000</td>\n",
       "      <td>47.00000</td>\n",
       "      <td>319.000000</td>\n",
       "      <td>3.000000</td>\n",
       "      <td>999.000000</td>\n",
       "      <td>0.000000</td>\n",
       "      <td>1.400000</td>\n",
       "      <td>93.994000</td>\n",
       "      <td>-36.400000</td>\n",
       "      <td>0.000000</td>\n",
       "    </tr>\n",
       "    <tr>\n",
       "      <th>max</th>\n",
       "      <td>1.000000</td>\n",
       "      <td>1.000000</td>\n",
       "      <td>1.000000</td>\n",
       "      <td>1.000000</td>\n",
       "      <td>1.000000</td>\n",
       "      <td>1.000000</td>\n",
       "      <td>1.000000</td>\n",
       "      <td>1.000000</td>\n",
       "      <td>1.000000</td>\n",
       "      <td>1.000000</td>\n",
       "      <td>...</td>\n",
       "      <td>1.000000</td>\n",
       "      <td>98.00000</td>\n",
       "      <td>4918.000000</td>\n",
       "      <td>56.000000</td>\n",
       "      <td>999.000000</td>\n",
       "      <td>7.000000</td>\n",
       "      <td>1.400000</td>\n",
       "      <td>94.767000</td>\n",
       "      <td>-26.900000</td>\n",
       "      <td>1.000000</td>\n",
       "    </tr>\n",
       "  </tbody>\n",
       "</table>\n",
       "<p>8 rows × 52 columns</p>\n",
       "</div>"
      ],
      "text/plain": [
       "              job_1         job_2         job_3         job_4         job_5  \\\n",
       "count  41188.000000  41188.000000  41188.000000  41188.000000  41188.000000   \n",
       "mean       0.224677      0.035350      0.025736      0.070992      0.041760   \n",
       "std        0.417375      0.184665      0.158348      0.256814      0.200042   \n",
       "min        0.000000      0.000000      0.000000      0.000000      0.000000   \n",
       "25%        0.000000      0.000000      0.000000      0.000000      0.000000   \n",
       "50%        0.000000      0.000000      0.000000      0.000000      0.000000   \n",
       "75%        0.000000      0.000000      0.000000      0.000000      0.000000   \n",
       "max        1.000000      1.000000      1.000000      1.000000      1.000000   \n",
       "\n",
       "              job_6         job_7         job_8         job_9        job_10  \\\n",
       "count  41188.000000  41188.000000  41188.000000  41188.000000  41188.000000   \n",
       "mean       0.034500      0.096363      0.021244      0.163713      0.024619   \n",
       "std        0.182513      0.295092      0.144199      0.370019      0.154962   \n",
       "min        0.000000      0.000000      0.000000      0.000000      0.000000   \n",
       "25%        0.000000      0.000000      0.000000      0.000000      0.000000   \n",
       "50%        0.000000      0.000000      0.000000      0.000000      0.000000   \n",
       "75%        0.000000      0.000000      0.000000      0.000000      0.000000   \n",
       "max        1.000000      1.000000      1.000000      1.000000      1.000000   \n",
       "\n",
       "       ...    poutcome_2          age      duration      campaign  \\\n",
       "count  ...  41188.000000  41188.00000  41188.000000  41188.000000   \n",
       "mean   ...      0.033335     40.02406    258.285010      2.567593   \n",
       "std    ...      0.179512     10.42125    259.279249      2.770014   \n",
       "min    ...      0.000000     17.00000      0.000000      1.000000   \n",
       "25%    ...      0.000000     32.00000    102.000000      1.000000   \n",
       "50%    ...      0.000000     38.00000    180.000000      2.000000   \n",
       "75%    ...      0.000000     47.00000    319.000000      3.000000   \n",
       "max    ...      1.000000     98.00000   4918.000000     56.000000   \n",
       "\n",
       "              pdays      previous  emp.var.rate  cons.price.idx  \\\n",
       "count  41188.000000  41188.000000  41188.000000    41188.000000   \n",
       "mean     962.475454      0.172963      0.081886       93.575664   \n",
       "std      186.910907      0.494901      1.570960        0.578840   \n",
       "min        0.000000      0.000000     -3.400000       92.201000   \n",
       "25%      999.000000      0.000000     -1.800000       93.075000   \n",
       "50%      999.000000      0.000000      1.100000       93.749000   \n",
       "75%      999.000000      0.000000      1.400000       93.994000   \n",
       "max      999.000000      7.000000      1.400000       94.767000   \n",
       "\n",
       "       cons.conf.idx      response  \n",
       "count   41188.000000  41188.000000  \n",
       "mean      -40.502600      0.112654  \n",
       "std         4.628198      0.316173  \n",
       "min       -50.800000      0.000000  \n",
       "25%       -42.700000      0.000000  \n",
       "50%       -41.800000      0.000000  \n",
       "75%       -36.400000      0.000000  \n",
       "max       -26.900000      1.000000  \n",
       "\n",
       "[8 rows x 52 columns]"
      ]
     },
     "execution_count": 11,
     "metadata": {},
     "output_type": "execute_result"
    }
   ],
   "source": [
    "resulting_bankdata.describe()"
   ]
  },
  {
   "cell_type": "code",
   "execution_count": 12,
   "metadata": {},
   "outputs": [
    {
     "data": {
      "text/plain": [
       "(41188, 52)"
      ]
     },
     "execution_count": 12,
     "metadata": {},
     "output_type": "execute_result"
    }
   ],
   "source": [
    "resulting_bankdata.shape"
   ]
  },
  {
   "cell_type": "code",
   "execution_count": 10,
   "metadata": {},
   "outputs": [
    {
     "name": "stdout",
     "output_type": "stream",
     "text": [
      "{0: 36548, 1: 4640}\n",
      "0.11265417111780131\n"
     ]
    }
   ],
   "source": [
    "dict_values=dict(resulting_bankdata[\"response\"].value_counts())\n",
    "print(dict_values)\n",
    "print(dict_values[1]/(dict_values[0]+dict_values[1])) #data is imbalanced\n",
    "#Research on imbalanced classes often considers imbalanced to mean a minority class of 10% to 20%\n"
   ]
  },
  {
   "cell_type": "code",
   "execution_count": 11,
   "metadata": {},
   "outputs": [],
   "source": [
    "from sklearn.model_selection import train_test_split\n",
    "\n",
    "X_train, X_test, y_train, y_test = train_test_split(resulting_feature_set, resulting_bankdata[\"response\"], test_size=0.2, random_state=1, stratify=resulting_bankdata[\"response\"])\n"
   ]
  },
  {
   "cell_type": "code",
   "execution_count": 14,
   "metadata": {},
   "outputs": [
    {
     "name": "stdout",
     "output_type": "stream",
     "text": [
      "(32950, 51) (8238, 51)\n"
     ]
    }
   ],
   "source": [
    "#Need to standardize, since its not save to feed into a neural network data that takes relatively large values OR\n",
    "#heterogenous data\n",
    "#Scale the set of (numeric!!)features.  Perform the scaling operation on the training set ONLY and then continue with the testing set:\n",
    "#here, I scaled numeric feture set,then concatenate it with previously one-hot-encoded data.(i.e. didn'scaled 0-1 variables)\n",
    "from sklearn.preprocessing import StandardScaler\n",
    "\n",
    "X_train_numeric=X_train.iloc[:,43:]\n",
    "X_test_numeric=X_test.iloc[:,43:]\n",
    "\n",
    "scaler = StandardScaler()\n",
    "scaler.fit(X_train_numeric)\n",
    "X_train_num_scaled = scaler.transform(X_train_numeric)\n",
    "X_test_num_scaled = scaler.transform(X_test_numeric)\n",
    "\n",
    "X_train=np.concatenate((X_train_num_scaled,X_train.iloc[:,:43]), axis=1)  #Reassigning X_train variable. Second component is categorical variables\n",
    "X_test=np.concatenate((X_test_num_scaled,X_test.iloc[:,:43]), axis=1)  #Similar assignment\n",
    "\n",
    "print(X_train.shape,X_test.shape)"
   ]
  },
  {
   "cell_type": "code",
   "execution_count": 15,
   "metadata": {},
   "outputs": [
    {
     "name": "stdout",
     "output_type": "stream",
     "text": [
      "tracking <tf.Variable 'Variable:0' shape=() dtype=int32, numpy=0> tp\n",
      "tracking <tf.Variable 'Variable:0' shape=() dtype=int32, numpy=0> fp\n",
      "tracking <tf.Variable 'Variable:0' shape=() dtype=int32, numpy=0> tp\n",
      "tracking <tf.Variable 'Variable:0' shape=() dtype=int32, numpy=0> fn\n"
     ]
    }
   ],
   "source": [
    "model = models.Sequential()\n",
    "model.add(layers.Dense(16, activation='relu', input_shape=(51,)))\n",
    "model.add(layers.Dense(10, activation='relu'))  #The second layer didn’t receive an input shape argument—instead, it automatically\n",
    "                                                #inferred its input shape as being the output shape of the layer that came before.\n",
    "model.add(layers.Dense(1, activation='sigmoid')) \n",
    "#sigmoid activation function is to output the probability indicating how likely\n",
    "#the sample is to have the target 1(in binary classification case)\n",
    "\n",
    "model.compile(optimizer=keras.optimizers.SGD(lr=0.01, momentum=0.9, nesterov=True),  #loss and optimer must be defined before feeding data into a network\n",
    "              loss='binary_crossentropy',             #\"rmsprop\" optimizer is generally a good choice, whatever the problem\n",
    "              metrics=[km.binary_precision(), km.binary_recall()])"
   ]
  },
  {
   "cell_type": "code",
   "execution_count": 16,
   "metadata": {},
   "outputs": [],
   "source": [
    "x_val = X_train[:3000]\n",
    "X_train = X_train[3000:]\n",
    "y_val = y_train[:3000]\n",
    "y_train = y_train[3000:]"
   ]
  },
  {
   "cell_type": "code",
   "execution_count": 18,
   "metadata": {},
   "outputs": [
    {
     "name": "stdout",
     "output_type": "stream",
     "text": [
      "Train on 29950 samples, validate on 3000 samples\n",
      "Epoch 1/10\n",
      "29950/29950 [==============================] - 2s 68us/step - loss: 0.2627 - precision: 0.1985 - recall: 0.0018 - val_loss: 0.2192 - val_precision: 0.5929 - val_recall: 0.0170\n",
      "Epoch 2/10\n",
      "29950/29950 [==============================] - 1s 45us/step - loss: 0.2041 - precision: 0.6455 - recall: 0.2137 - val_loss: 0.2049 - val_precision: 0.5532 - val_recall: 0.5130\n",
      "Epoch 3/10\n",
      "29950/29950 [==============================] - 1s 44us/step - loss: 0.1950 - precision: 0.5840 - recall: 0.5445 - val_loss: 0.2006 - val_precision: 0.5624 - val_recall: 0.5378\n",
      "Epoch 4/10\n",
      "29950/29950 [==============================] - 1s 44us/step - loss: 0.1907 - precision: 0.5972 - recall: 0.5827 - val_loss: 0.1991 - val_precision: 0.5702 - val_recall: 0.5445\n",
      "Epoch 5/10\n",
      "29950/29950 [==============================] - 1s 48us/step - loss: 0.1885 - precision: 0.6124 - recall: 0.5762 - val_loss: 0.1979 - val_precision: 0.5861 - val_recall: 0.5282\n",
      "Epoch 6/10\n",
      "29950/29950 [==============================] - 1s 44us/step - loss: 0.1870 - precision: 0.6028 - recall: 0.5330 - val_loss: 0.1990 - val_precision: 0.5817 - val_recall: 0.5280\n",
      "Epoch 7/10\n",
      "29950/29950 [==============================] - 1s 46us/step - loss: 0.1859 - precision: 0.6138 - recall: 0.5687 - val_loss: 0.1979 - val_precision: 0.5857 - val_recall: 0.5149\n",
      "Epoch 8/10\n",
      "29950/29950 [==============================] - 1s 48us/step - loss: 0.1850 - precision: 0.6162 - recall: 0.5413 - val_loss: 0.1981 - val_precision: 0.6097 - val_recall: 0.5239\n",
      "Epoch 9/10\n",
      "29950/29950 [==============================] - 1s 44us/step - loss: 0.1842 - precision: 0.6122 - recall: 0.5346 - val_loss: 0.1973 - val_precision: 0.5882 - val_recall: 0.5240\n",
      "Epoch 10/10\n",
      "29950/29950 [==============================] - 1s 44us/step - loss: 0.1835 - precision: 0.6131 - recall: 0.5402 - val_loss: 0.1975 - val_precision: 0.5882 - val_recall: 0.5221\n"
     ]
    }
   ],
   "source": [
    "history = model.fit(X_train,y_train, epochs=10,batch_size=128, validation_data=(x_val, y_val))\n",
    "\n",
    "#Note that the call to model.fit() returns a History object. This object has a member\n",
    "#history, which is a dictionary containing data about everything that happened\n",
    "#during training."
   ]
  },
  {
   "cell_type": "code",
   "execution_count": 19,
   "metadata": {},
   "outputs": [
    {
     "data": {
      "text/plain": [
       "dict_keys(['val_loss', 'val_precision', 'val_recall', 'loss', 'precision', 'recall'])"
      ]
     },
     "execution_count": 19,
     "metadata": {},
     "output_type": "execute_result"
    }
   ],
   "source": [
    "history_dict = history.history\n",
    "history_dict.keys()"
   ]
  },
  {
   "cell_type": "code",
   "execution_count": 20,
   "metadata": {},
   "outputs": [
    {
     "data": {
      "image/png": "[encoded data removed]",
      "text/plain": [
       "<Figure size 432x288 with 1 Axes>"
      ]
     },
     "metadata": {
      "needs_background": "light"
     },
     "output_type": "display_data"
    }
   ],
   "source": [
    "#import matplotlib.pyplot as plt\n",
    "\n",
    "loss_values = history_dict['loss']\n",
    "val_loss_values = history_dict['val_loss']\n",
    "epochs = range(1, len(history_dict[\"recall\"]) + 1)\n",
    "\n",
    "plt.plot(epochs, loss_values, 'bo', label='Training loss')\n",
    "plt.plot(epochs, val_loss_values, 'b', label='Validation loss')\n",
    "plt.title('Training and validation loss')\n",
    "plt.xlabel('Epochs')\n",
    "plt.ylabel('Loss')\n",
    "plt.legend()\n",
    "plt.show()"
   ]
  },
  {
   "cell_type": "code",
   "execution_count": 21,
   "metadata": {},
   "outputs": [
    {
     "data": {
      "image/png": "[encoded data removed]",
      "text/plain": [
       "<Figure size 432x288 with 1 Axes>"
      ]
     },
     "metadata": {
      "needs_background": "light"
     },
     "output_type": "display_data"
    }
   ],
   "source": [
    "acc_values = history_dict['recall']\n",
    "val_acc_values = history_dict['val_recall']\n",
    "plt.plot(epochs, acc_values, 'bo', label='Training recall')\n",
    "plt.plot(epochs, val_acc_values, 'b', label='Validation recall')\n",
    "plt.title('Training and validation recall')\n",
    "plt.xlabel('Epochs')\n",
    "plt.ylabel('Recall')\n",
    "plt.legend()\n",
    "plt.show()"
   ]
  },
  {
   "cell_type": "code",
   "execution_count": 22,
   "metadata": {},
   "outputs": [
    {
     "name": "stdout",
     "output_type": "stream",
     "text": [
      "8238/8238 [==============================] - 1s 78us/step\n",
      "[0.18927207459456194, 0.6110388040542603, 0.5423803329467773]\n"
     ]
    }
   ],
   "source": [
    "results = model.evaluate(X_test, y_test)\n",
    "print(results) \n",
    "\n",
    "#output returns[loss,accuracy]"
   ]
  },
  {
   "cell_type": "code",
   "execution_count": 26,
   "metadata": {},
   "outputs": [],
   "source": [
    "y_pred = model.predict_classes(X_test)\n",
    "#https://machinelearningmastery.com/how-to-make-classification-and-regression-predictions-for-deep-learning-models-in-keras/\n",
    "#https://machinelearningmastery.com/save-load-keras-deep-learning-models/\n"
   ]
  },
  {
   "cell_type": "code",
   "execution_count": 28,
   "metadata": {},
   "outputs": [
    {
     "data": {
      "text/plain": [
       "array([[7011,  417],\n",
       "       [ 299,  511]], dtype=int64)"
      ]
     },
     "execution_count": 28,
     "metadata": {},
     "output_type": "execute_result"
    }
   ],
   "source": [
    "confusion_matrix(y_pred,y_test)"
   ]
  },
  {
   "cell_type": "code",
   "execution_count": 47,
   "metadata": {},
   "outputs": [
    {
     "name": "stdout",
     "output_type": "stream",
     "text": [
      "0.9106508493423462\n"
     ]
    }
   ],
   "source": [
    "from keras.wrappers.scikit_learn import KerasClassifier\n",
    "from sklearn.model_selection import StratifiedKFold\n",
    "from sklearn.model_selection import cross_val_score\n",
    "\n",
    "def NN_model():\n",
    "# create model\n",
    "    model = models.Sequential()\n",
    "    model.add(layers.Dense(12, input_shape=(51,), activation='relu'))\n",
    "    model.add(layers.Dense(10, activation='relu'))\n",
    "    model.add(layers.Dense(1, activation='sigmoid'))\n",
    "    # Compile model\n",
    "    model.compile(loss='binary_crossentropy', optimizer='adam', metrics=[\"accuracy\"])\n",
    "    return model\n",
    "\n",
    "\n",
    "model = KerasClassifier(build_fn=NN_model, epochs=10, batch_size=256, verbose=0)\n",
    "# evaluate using 10-fold cross validation\n",
    "kfold = StratifiedKFold(n_splits=10, shuffle=True, random_state=7)\n",
    "results = cross_val_score(model, X_train, y_train, cv=kfold)\n",
    "print(results.mean())\n"
   ]
  },
  {
   "cell_type": "code",
   "execution_count": 48,
   "metadata": {},
   "outputs": [
    {
     "name": "stderr",
     "output_type": "stream",
     "text": [
      "C:\\Anaconda_last\\lib\\site-packages\\sklearn\\model_selection\\_split.py:1978: FutureWarning: The default value of cv will change from 3 to 5 in version 0.22. Specify it explicitly to silence this warning.\n",
      "  warnings.warn(CV_WARNING, FutureWarning)\n",
      "C:\\Anaconda_last\\lib\\site-packages\\joblib\\externals\\loky\\process_executor.py:706: UserWarning: A worker stopped while some jobs were given to the executor. This can be caused by a too short worker timeout or by a memory leak.\n",
      "  \"timeout or by a memory leak.\", UserWarning\n"
     ]
    }
   ],
   "source": [
    "from sklearn.model_selection import GridSearchCV\n",
    "\n",
    "def NN_model(optimizer='rmsprop', init='glorot_uniform'):\n",
    "    # create model\n",
    "    model = models.Sequential()\n",
    "    model.add(layers.Dense(12, input_shape=(51,), kernel_initializer=init, activation='relu'))\n",
    "    model.add(layers.Dense(10, kernel_initializer=init, activation='relu'))\n",
    "    model.add(layers.Dense(1, kernel_initializer=init, activation='sigmoid'))\n",
    "    # Compile model\n",
    "    model.compile(loss='binary_crossentropy', optimizer=optimizer, metrics=['accuracy'])\n",
    "    return model\n",
    "\n",
    "# create model\n",
    "model = KerasClassifier(build_fn=NN_model, verbose=0)\n",
    "# grid search epochs, batch size and optimizer\n",
    "optimizers = ['SGD', 'RMSprop', 'Adagrad', 'Adadelta', 'Adam', 'Adamax', 'Nadam']\n",
    "epochs = [4, 8, 12]\n",
    "batches = [64,128, 256]\n",
    "param_grid = dict(optimizer=optimizers, epochs=epochs, batch_size=batches)\n",
    "grid = GridSearchCV(estimator=model, param_grid=param_grid, n_jobs=-1)\n",
    "grid_result = grid.fit(X_train, y_train)"
   ]
  },
  {
   "cell_type": "code",
   "execution_count": 49,
   "metadata": {},
   "outputs": [
    {
     "name": "stdout",
     "output_type": "stream",
     "text": [
      "Best: 0.912688 using {'batch_size': 128, 'epochs': 8, 'optimizer': 'Nadam'}\n",
      "0.898331 (0.006773) with: {'batch_size': 64, 'epochs': 4, 'optimizer': 'SGD'}\n",
      "0.909316 (0.002162) with: {'batch_size': 64, 'epochs': 4, 'optimizer': 'RMSprop'}\n",
      "0.908982 (0.000961) with: {'batch_size': 64, 'epochs': 4, 'optimizer': 'Adagrad'}\n",
      "0.909149 (0.002524) with: {'batch_size': 64, 'epochs': 4, 'optimizer': 'Adadelta'}\n",
      "0.910651 (0.002284) with: {'batch_size': 64, 'epochs': 4, 'optimizer': 'Adam'}\n",
      "0.909249 (0.001430) with: {'batch_size': 64, 'epochs': 4, 'optimizer': 'Adamax'}\n",
      "0.910250 (0.001775) with: {'batch_size': 64, 'epochs': 4, 'optimizer': 'Nadam'}\n",
      "0.906010 (0.003790) with: {'batch_size': 64, 'epochs': 8, 'optimizer': 'SGD'}\n",
      "0.909115 (0.002057) with: {'batch_size': 64, 'epochs': 8, 'optimizer': 'RMSprop'}\n",
      "0.909850 (0.002209) with: {'batch_size': 64, 'epochs': 8, 'optimizer': 'Adagrad'}\n",
      "0.910751 (0.001262) with: {'batch_size': 64, 'epochs': 8, 'optimizer': 'Adadelta'}\n",
      "0.910551 (0.001458) with: {'batch_size': 64, 'epochs': 8, 'optimizer': 'Adam'}\n",
      "0.908514 (0.001433) with: {'batch_size': 64, 'epochs': 8, 'optimizer': 'Adamax'}\n",
      "0.912020 (0.002397) with: {'batch_size': 64, 'epochs': 8, 'optimizer': 'Nadam'}\n",
      "0.907846 (0.002208) with: {'batch_size': 64, 'epochs': 12, 'optimizer': 'SGD'}\n",
      "0.910651 (0.003198) with: {'batch_size': 64, 'epochs': 12, 'optimizer': 'RMSprop'}\n",
      "0.908548 (0.002420) with: {'batch_size': 64, 'epochs': 12, 'optimizer': 'Adagrad'}\n",
      "0.910050 (0.002837) with: {'batch_size': 64, 'epochs': 12, 'optimizer': 'Adadelta'}\n",
      "0.910484 (0.002062) with: {'batch_size': 64, 'epochs': 12, 'optimizer': 'Adam'}\n",
      "0.909983 (0.001900) with: {'batch_size': 64, 'epochs': 12, 'optimizer': 'Adamax'}\n",
      "0.910117 (0.002540) with: {'batch_size': 64, 'epochs': 12, 'optimizer': 'Nadam'}\n",
      "0.896795 (0.001926) with: {'batch_size': 128, 'epochs': 4, 'optimizer': 'SGD'}\n",
      "0.910150 (0.002307) with: {'batch_size': 128, 'epochs': 4, 'optimizer': 'RMSprop'}\n",
      "0.907579 (0.000187) with: {'batch_size': 128, 'epochs': 4, 'optimizer': 'Adagrad'}\n",
      "0.908114 (0.003129) with: {'batch_size': 128, 'epochs': 4, 'optimizer': 'Adadelta'}\n",
      "0.909816 (0.002021) with: {'batch_size': 128, 'epochs': 4, 'optimizer': 'Adam'}\n",
      "0.906511 (0.002512) with: {'batch_size': 128, 'epochs': 4, 'optimizer': 'Adamax'}\n",
      "0.909449 (0.001775) with: {'batch_size': 128, 'epochs': 4, 'optimizer': 'Nadam'}\n",
      "0.904374 (0.001548) with: {'batch_size': 128, 'epochs': 8, 'optimizer': 'SGD'}\n",
      "0.910417 (0.002477) with: {'batch_size': 128, 'epochs': 8, 'optimizer': 'RMSprop'}\n",
      "0.908982 (0.001552) with: {'batch_size': 128, 'epochs': 8, 'optimizer': 'Adagrad'}\n",
      "0.910651 (0.003248) with: {'batch_size': 128, 'epochs': 8, 'optimizer': 'Adadelta'}\n",
      "0.910751 (0.002281) with: {'batch_size': 128, 'epochs': 8, 'optimizer': 'Adam'}\n",
      "0.909449 (0.002362) with: {'batch_size': 128, 'epochs': 8, 'optimizer': 'Adamax'}\n",
      "0.912688 (0.001164) with: {'batch_size': 128, 'epochs': 8, 'optimizer': 'Nadam'}\n",
      "0.904107 (0.001732) with: {'batch_size': 128, 'epochs': 12, 'optimizer': 'SGD'}\n",
      "0.911686 (0.002143) with: {'batch_size': 128, 'epochs': 12, 'optimizer': 'RMSprop'}\n",
      "0.909649 (0.002200) with: {'batch_size': 128, 'epochs': 12, 'optimizer': 'Adagrad'}\n",
      "0.909683 (0.003396) with: {'batch_size': 128, 'epochs': 12, 'optimizer': 'Adadelta'}\n",
      "0.909950 (0.003357) with: {'batch_size': 128, 'epochs': 12, 'optimizer': 'Adam'}\n",
      "0.908781 (0.002201) with: {'batch_size': 128, 'epochs': 12, 'optimizer': 'Adamax'}\n",
      "0.912688 (0.002727) with: {'batch_size': 128, 'epochs': 12, 'optimizer': 'Nadam'}\n",
      "0.887780 (0.000880) with: {'batch_size': 256, 'epochs': 4, 'optimizer': 'SGD'}\n",
      "0.907880 (0.002743) with: {'batch_size': 256, 'epochs': 4, 'optimizer': 'RMSprop'}\n",
      "0.907746 (0.001479) with: {'batch_size': 256, 'epochs': 4, 'optimizer': 'Adagrad'}\n",
      "0.906711 (0.001411) with: {'batch_size': 256, 'epochs': 4, 'optimizer': 'Adadelta'}\n",
      "0.900534 (0.004838) with: {'batch_size': 256, 'epochs': 4, 'optimizer': 'Adam'}\n",
      "0.905275 (0.001758) with: {'batch_size': 256, 'epochs': 4, 'optimizer': 'Adamax'}\n",
      "0.909583 (0.001819) with: {'batch_size': 256, 'epochs': 4, 'optimizer': 'Nadam'}\n",
      "0.894157 (0.004993) with: {'batch_size': 256, 'epochs': 8, 'optimizer': 'SGD'}\n",
      "0.911753 (0.000359) with: {'batch_size': 256, 'epochs': 8, 'optimizer': 'RMSprop'}\n",
      "0.909816 (0.002082) with: {'batch_size': 256, 'epochs': 8, 'optimizer': 'Adagrad'}\n",
      "0.907880 (0.001943) with: {'batch_size': 256, 'epochs': 8, 'optimizer': 'Adadelta'}\n",
      "0.910351 (0.002014) with: {'batch_size': 256, 'epochs': 8, 'optimizer': 'Adam'}\n",
      "0.909516 (0.001376) with: {'batch_size': 256, 'epochs': 8, 'optimizer': 'Adamax'}\n",
      "0.908715 (0.001376) with: {'batch_size': 256, 'epochs': 8, 'optimizer': 'Nadam'}\n",
      "0.896561 (0.007246) with: {'batch_size': 256, 'epochs': 12, 'optimizer': 'SGD'}\n",
      "0.911386 (0.002613) with: {'batch_size': 256, 'epochs': 12, 'optimizer': 'RMSprop'}\n",
      "0.910017 (0.001943) with: {'batch_size': 256, 'epochs': 12, 'optimizer': 'Adagrad'}\n",
      "0.910117 (0.001334) with: {'batch_size': 256, 'epochs': 12, 'optimizer': 'Adadelta'}\n",
      "0.910351 (0.001856) with: {'batch_size': 256, 'epochs': 12, 'optimizer': 'Adam'}\n",
      "0.909616 (0.001685) with: {'batch_size': 256, 'epochs': 12, 'optimizer': 'Adamax'}\n",
      "0.910751 (0.001558) with: {'batch_size': 256, 'epochs': 12, 'optimizer': 'Nadam'}\n"
     ]
    }
   ],
   "source": [
    "# summarize results\n",
    "print(\"Best: %f using %s\" % (grid_result.best_score_, grid_result.best_params_))\n",
    "means = grid_result.cv_results_['mean_test_score']\n",
    "stds = grid_result.cv_results_['std_test_score']\n",
    "params = grid_result.cv_results_['params']\n",
    "for mean, stdev, param in zip(means, stds, params):\n",
    "    print(\"%f (%f) with: %r\" % (mean, stdev, param))"
   ]
  },
  {
   "cell_type": "code",
   "execution_count": null,
   "metadata": {},
   "outputs": [],
   "source": []
  }
 ],
 "metadata": {
  "kernelspec": {
   "display_name": "Python 3",
   "language": "python",
   "name": "python3"
  },
  "language_info": {
   "codemirror_mode": {
    "name": "ipython",
    "version": 3
   },
   "file_extension": ".py",
   "mimetype": "text/x-python",
   "name": "python",
   "nbconvert_exporter": "python",
   "pygments_lexer": "ipython3",
   "version": "3.7.3"
  }
 },
 "nbformat": 4,
 "nbformat_minor": 2
}
