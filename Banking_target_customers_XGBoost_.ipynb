{
 "cells": [
  {
   "cell_type": "code",
   "execution_count": 1,
   "metadata": {
    "scrolled": true
   },
   "outputs": [],
   "source": [
    "import pandas as pd\n",
    "import numpy as np\n",
    "import matplotlib as mpl\n",
    "import matplotlib.pyplot as plt\n",
    "import seaborn as sns\n",
    "\n",
    "from sklearn.metrics import classification_report, confusion_matrix, roc_curve, auc, roc_auc_score\n",
    "\n",
    "\n",
    "%matplotlib inline\n",
    "plt.style.use('seaborn-white')"
   ]
  },
  {
   "cell_type": "code",
   "execution_count": 4,
   "metadata": {},
   "outputs": [],
   "source": [
    "dataset=\"bank-additional-full.csv\"\n",
    "bankdata=pd.read_csv(dataset, delimiter=\";\")\n",
    "bankdata[\"response\"] = bankdata.y.map({'no':0, 'yes':1})\n",
    "\n",
    "bankdata.drop([\"y\"],axis=1, inplace=True)\n",
    "#bankdata.info()\n",
    "#(bankdata.response==0).sum()\n",
    "\n",
    "#bankdata.age.unique()"
   ]
  },
  {
   "cell_type": "code",
   "execution_count": 5,
   "metadata": {},
   "outputs": [
    {
     "data": {
      "text/html": [
       "<div>\n",
       "<style scoped>\n",
       "    .dataframe tbody tr th:only-of-type {\n",
       "        vertical-align: middle;\n",
       "    }\n",
       "\n",
       "    .dataframe tbody tr th {\n",
       "        vertical-align: top;\n",
       "    }\n",
       "\n",
       "    .dataframe thead th {\n",
       "        text-align: right;\n",
       "    }\n",
       "</style>\n",
       "<table border=\"1\" class=\"dataframe\">\n",
       "  <thead>\n",
       "    <tr style=\"text-align: right;\">\n",
       "      <th></th>\n",
       "      <th>age</th>\n",
       "      <th>job</th>\n",
       "      <th>marital</th>\n",
       "      <th>education</th>\n",
       "      <th>default</th>\n",
       "      <th>housing</th>\n",
       "      <th>loan</th>\n",
       "      <th>contact</th>\n",
       "      <th>month</th>\n",
       "      <th>day_of_week</th>\n",
       "      <th>...</th>\n",
       "      <th>campaign</th>\n",
       "      <th>pdays</th>\n",
       "      <th>previous</th>\n",
       "      <th>poutcome</th>\n",
       "      <th>emp.var.rate</th>\n",
       "      <th>cons.price.idx</th>\n",
       "      <th>cons.conf.idx</th>\n",
       "      <th>euribor3m</th>\n",
       "      <th>nr.employed</th>\n",
       "      <th>response</th>\n",
       "    </tr>\n",
       "  </thead>\n",
       "  <tbody>\n",
       "    <tr>\n",
       "      <th>0</th>\n",
       "      <td>56</td>\n",
       "      <td>housemaid</td>\n",
       "      <td>married</td>\n",
       "      <td>basic.4y</td>\n",
       "      <td>no</td>\n",
       "      <td>no</td>\n",
       "      <td>no</td>\n",
       "      <td>telephone</td>\n",
       "      <td>may</td>\n",
       "      <td>mon</td>\n",
       "      <td>...</td>\n",
       "      <td>1</td>\n",
       "      <td>999</td>\n",
       "      <td>0</td>\n",
       "      <td>nonexistent</td>\n",
       "      <td>1.1</td>\n",
       "      <td>93.994</td>\n",
       "      <td>-36.4</td>\n",
       "      <td>4.857</td>\n",
       "      <td>5191.0</td>\n",
       "      <td>0</td>\n",
       "    </tr>\n",
       "    <tr>\n",
       "      <th>1</th>\n",
       "      <td>57</td>\n",
       "      <td>services</td>\n",
       "      <td>married</td>\n",
       "      <td>high.school</td>\n",
       "      <td>unknown</td>\n",
       "      <td>no</td>\n",
       "      <td>no</td>\n",
       "      <td>telephone</td>\n",
       "      <td>may</td>\n",
       "      <td>mon</td>\n",
       "      <td>...</td>\n",
       "      <td>1</td>\n",
       "      <td>999</td>\n",
       "      <td>0</td>\n",
       "      <td>nonexistent</td>\n",
       "      <td>1.1</td>\n",
       "      <td>93.994</td>\n",
       "      <td>-36.4</td>\n",
       "      <td>4.857</td>\n",
       "      <td>5191.0</td>\n",
       "      <td>0</td>\n",
       "    </tr>\n",
       "  </tbody>\n",
       "</table>\n",
       "<p>2 rows × 21 columns</p>\n",
       "</div>"
      ],
      "text/plain": [
       "   age        job  marital    education  default housing loan    contact  \\\n",
       "0   56  housemaid  married     basic.4y       no      no   no  telephone   \n",
       "1   57   services  married  high.school  unknown      no   no  telephone   \n",
       "\n",
       "  month day_of_week  ...  campaign  pdays  previous     poutcome emp.var.rate  \\\n",
       "0   may         mon  ...         1    999         0  nonexistent          1.1   \n",
       "1   may         mon  ...         1    999         0  nonexistent          1.1   \n",
       "\n",
       "   cons.price.idx  cons.conf.idx  euribor3m  nr.employed  response  \n",
       "0          93.994          -36.4      4.857       5191.0         0  \n",
       "1          93.994          -36.4      4.857       5191.0         0  \n",
       "\n",
       "[2 rows x 21 columns]"
      ]
     },
     "execution_count": 5,
     "metadata": {},
     "output_type": "execute_result"
    }
   ],
   "source": [
    "bankdata.head(2)"
   ]
  },
  {
   "cell_type": "code",
   "execution_count": 6,
   "metadata": {},
   "outputs": [
    {
     "data": {
      "text/plain": [
       "(41188, 11)"
      ]
     },
     "execution_count": 6,
     "metadata": {},
     "output_type": "execute_result"
    }
   ],
   "source": [
    "#The method .copy() is used here so that any changes made in new DataFrame don't get reflected in the original one\n",
    "cat_bankdata = bankdata.select_dtypes(include=['object']).copy() #dataframe of columns with object type columns\n",
    "\n",
    "#print(cat_bankdata.isnull().values.sum()) #checking for the null values\n",
    "#print(cat_bankdata.isnull().sum()) #check the column-wise distribution of null values\n",
    "int_float_bankdata= bankdata.select_dtypes(include=['int64','float64']).copy() #dataframe of columns with int64,float64 type columns\n",
    "int_float_bankdata.shape #includes response\n"
   ]
  },
  {
   "cell_type": "code",
   "execution_count": 7,
   "metadata": {},
   "outputs": [
    {
     "data": {
      "text/html": [
       "<div>\n",
       "<style scoped>\n",
       "    .dataframe tbody tr th:only-of-type {\n",
       "        vertical-align: middle;\n",
       "    }\n",
       "\n",
       "    .dataframe tbody tr th {\n",
       "        vertical-align: top;\n",
       "    }\n",
       "\n",
       "    .dataframe thead th {\n",
       "        text-align: right;\n",
       "    }\n",
       "</style>\n",
       "<table border=\"1\" class=\"dataframe\">\n",
       "  <thead>\n",
       "    <tr style=\"text-align: right;\">\n",
       "      <th></th>\n",
       "      <th>job</th>\n",
       "      <th>marital</th>\n",
       "      <th>education</th>\n",
       "      <th>default</th>\n",
       "      <th>housing</th>\n",
       "      <th>loan</th>\n",
       "      <th>contact</th>\n",
       "      <th>month</th>\n",
       "      <th>day_of_week</th>\n",
       "      <th>poutcome</th>\n",
       "    </tr>\n",
       "  </thead>\n",
       "  <tbody>\n",
       "    <tr>\n",
       "      <th>0</th>\n",
       "      <td>3</td>\n",
       "      <td>1</td>\n",
       "      <td>0</td>\n",
       "      <td>0</td>\n",
       "      <td>0</td>\n",
       "      <td>0</td>\n",
       "      <td>1</td>\n",
       "      <td>6</td>\n",
       "      <td>1</td>\n",
       "      <td>1</td>\n",
       "    </tr>\n",
       "    <tr>\n",
       "      <th>1</th>\n",
       "      <td>7</td>\n",
       "      <td>1</td>\n",
       "      <td>3</td>\n",
       "      <td>1</td>\n",
       "      <td>0</td>\n",
       "      <td>0</td>\n",
       "      <td>1</td>\n",
       "      <td>6</td>\n",
       "      <td>1</td>\n",
       "      <td>1</td>\n",
       "    </tr>\n",
       "    <tr>\n",
       "      <th>2</th>\n",
       "      <td>7</td>\n",
       "      <td>1</td>\n",
       "      <td>3</td>\n",
       "      <td>0</td>\n",
       "      <td>2</td>\n",
       "      <td>0</td>\n",
       "      <td>1</td>\n",
       "      <td>6</td>\n",
       "      <td>1</td>\n",
       "      <td>1</td>\n",
       "    </tr>\n",
       "    <tr>\n",
       "      <th>3</th>\n",
       "      <td>0</td>\n",
       "      <td>1</td>\n",
       "      <td>1</td>\n",
       "      <td>0</td>\n",
       "      <td>0</td>\n",
       "      <td>0</td>\n",
       "      <td>1</td>\n",
       "      <td>6</td>\n",
       "      <td>1</td>\n",
       "      <td>1</td>\n",
       "    </tr>\n",
       "    <tr>\n",
       "      <th>4</th>\n",
       "      <td>7</td>\n",
       "      <td>1</td>\n",
       "      <td>3</td>\n",
       "      <td>0</td>\n",
       "      <td>0</td>\n",
       "      <td>2</td>\n",
       "      <td>1</td>\n",
       "      <td>6</td>\n",
       "      <td>1</td>\n",
       "      <td>1</td>\n",
       "    </tr>\n",
       "  </tbody>\n",
       "</table>\n",
       "</div>"
      ],
      "text/plain": [
       "   job  marital  education  default  housing  loan  contact  month  \\\n",
       "0    3        1          0        0        0     0        1      6   \n",
       "1    7        1          3        1        0     0        1      6   \n",
       "2    7        1          3        0        2     0        1      6   \n",
       "3    0        1          1        0        0     0        1      6   \n",
       "4    7        1          3        0        0     2        1      6   \n",
       "\n",
       "   day_of_week  poutcome  \n",
       "0            1         1  \n",
       "1            1         1  \n",
       "2            1         1  \n",
       "3            1         1  \n",
       "4            1         1  "
      ]
     },
     "execution_count": 7,
     "metadata": {},
     "output_type": "execute_result"
    }
   ],
   "source": [
    "#converting categories into numeric types(numeric encoding)\n",
    "\n",
    "cat_column=cat_bankdata.columns.tolist()\n",
    "\n",
    "for i in cat_column:\n",
    "    cat_bankdata[i] = cat_bankdata[i].astype('category')\n",
    "    cat_bankdata[i] = cat_bankdata[i].cat.codes\n",
    "    \n",
    "cat_bankdata.head() "
   ]
  },
  {
   "cell_type": "code",
   "execution_count": 8,
   "metadata": {},
   "outputs": [
    {
     "name": "stdout",
     "output_type": "stream",
     "text": [
      "<class 'pandas.core.frame.DataFrame'>\n",
      "RangeIndex: 41188 entries, 0 to 41187\n",
      "Data columns (total 20 columns):\n",
      "age               41188 non-null int64\n",
      "duration          41188 non-null int64\n",
      "campaign          41188 non-null int64\n",
      "pdays             41188 non-null int64\n",
      "previous          41188 non-null int64\n",
      "emp.var.rate      41188 non-null float64\n",
      "cons.price.idx    41188 non-null float64\n",
      "cons.conf.idx     41188 non-null float64\n",
      "euribor3m         41188 non-null float64\n",
      "nr.employed       41188 non-null float64\n",
      "job               41188 non-null int8\n",
      "marital           41188 non-null int8\n",
      "education         41188 non-null int8\n",
      "default           41188 non-null int8\n",
      "housing           41188 non-null int8\n",
      "loan              41188 non-null int8\n",
      "contact           41188 non-null int8\n",
      "month             41188 non-null int8\n",
      "day_of_week       41188 non-null int8\n",
      "poutcome          41188 non-null int8\n",
      "dtypes: float64(5), int64(5), int8(10)\n",
      "memory usage: 3.5 MB\n"
     ]
    }
   ],
   "source": [
    "from sklearn.feature_selection import VarianceThreshold\n",
    "\n",
    "var_bankdata=pd.concat([int_float_bankdata,cat_bankdata],axis=1)\n",
    "\n",
    "#EX/ threshold=0.1 which means that if the variance of the values in a column is less than 0.1, remove those columns.\n",
    "#In other words, remove feature column where approximately 99% of the values are similar.\n",
    "variance_filter = VarianceThreshold(threshold=0.1)\n",
    "bankdata_filtered=variance_filter.fit(var_bankdata)  \n",
    "\n",
    "#Now to get all the features that are NOT CONSTANT, we can use the get_support() method of the filter that we created\n",
    "len(var_bankdata.columns[variance_filter.get_support()]) \n",
    "\n",
    "#the number of constant features with the help of the following script:\n",
    "constant_columns = [column for column in var_bankdata.columns  \n",
    "                    if column not in var_bankdata.columns[variance_filter.get_support()]]\n",
    "\n",
    "#print(variable_columns)\n",
    "#print(int_float_bankdata.columns[variance_filter.get_support()])\n",
    "bankdata_filtered=var_bankdata[var_bankdata.columns[variance_filter.get_support()]]\n",
    "\n",
    "bankdata_filtered.info()  #not include \"response\""
   ]
  },
  {
   "cell_type": "code",
   "execution_count": 9,
   "metadata": {},
   "outputs": [
    {
     "data": {
      "text/plain": [
       "['response']"
      ]
     },
     "execution_count": 9,
     "metadata": {},
     "output_type": "execute_result"
    }
   ],
   "source": [
    "constant_columns"
   ]
  },
  {
   "cell_type": "code",
   "execution_count": 9,
   "metadata": {
    "collapsed": true
   },
   "outputs": [
    {
     "data": {
      "text/plain": [
       "array([[<matplotlib.axes._subplots.AxesSubplot object at 0x000000FFD4699358>,\n",
       "        <matplotlib.axes._subplots.AxesSubplot object at 0x000000FFD4AABA58>,\n",
       "        <matplotlib.axes._subplots.AxesSubplot object at 0x000000FFD536F1D0>],\n",
       "       [<matplotlib.axes._subplots.AxesSubplot object at 0x000000FFD5391C50>,\n",
       "        <matplotlib.axes._subplots.AxesSubplot object at 0x000000FFD53C1710>,\n",
       "        <matplotlib.axes._subplots.AxesSubplot object at 0x000000FFD53C1748>],\n",
       "       [<matplotlib.axes._subplots.AxesSubplot object at 0x000000FFD5413C50>,\n",
       "        <matplotlib.axes._subplots.AxesSubplot object at 0x000000FFD5440710>,\n",
       "        <matplotlib.axes._subplots.AxesSubplot object at 0x000000FFD54701D0>],\n",
       "       [<matplotlib.axes._subplots.AxesSubplot object at 0x000000FFD5493C50>,\n",
       "        <matplotlib.axes._subplots.AxesSubplot object at 0x000000FFD54C5710>,\n",
       "        <matplotlib.axes._subplots.AxesSubplot object at 0x000000FFD54F11D0>]],\n",
       "      dtype=object)"
      ]
     },
     "execution_count": 9,
     "metadata": {},
     "output_type": "execute_result"
    },
    {
     "data": {
      "image/png": "[encoded data removed]",
      "text/plain": [
       "<Figure size 1080x648 with 12 Axes>"
      ]
     },
     "metadata": {
      "needs_background": "light"
     },
     "output_type": "display_data"
    }
   ],
   "source": [
    "int_float_bankdata.hist(figsize=(15,9),bins=50)"
   ]
  },
  {
   "cell_type": "code",
   "execution_count": 14,
   "metadata": {},
   "outputs": [],
   "source": [
    "#creating dummy variables from categorical features (One-Hot encoding)>> this has the benefit of not weighting a value improperly.\n",
    "#sklearn has \"LabelBinarizer\" class for one- hot encoding\n",
    "\n",
    "cat_bankdata_dummy = cat_bankdata.copy()\n",
    "cat_column_list=cat_bankdata.columns.tolist()\n",
    "\n",
    "cat_bankdata_dummy = pd.get_dummies(cat_bankdata_dummy, columns=cat_column_list, prefix = cat_column_list,drop_first=True)\n",
    "\n",
    "\n",
    "#print(cat_bankdata_dummy.info())"
   ]
  },
  {
   "cell_type": "code",
   "execution_count": 12,
   "metadata": {},
   "outputs": [
    {
     "data": {
      "text/html": [
       "<div>\n",
       "<style scoped>\n",
       "    .dataframe tbody tr th:only-of-type {\n",
       "        vertical-align: middle;\n",
       "    }\n",
       "\n",
       "    .dataframe tbody tr th {\n",
       "        vertical-align: top;\n",
       "    }\n",
       "\n",
       "    .dataframe thead th {\n",
       "        text-align: right;\n",
       "    }\n",
       "</style>\n",
       "<table border=\"1\" class=\"dataframe\">\n",
       "  <thead>\n",
       "    <tr style=\"text-align: right;\">\n",
       "      <th></th>\n",
       "      <th>age</th>\n",
       "      <th>duration</th>\n",
       "      <th>campaign</th>\n",
       "      <th>pdays</th>\n",
       "      <th>previous</th>\n",
       "      <th>emp.var.rate</th>\n",
       "      <th>cons.price.idx</th>\n",
       "      <th>cons.conf.idx</th>\n",
       "      <th>euribor3m</th>\n",
       "      <th>nr.employed</th>\n",
       "      <th>response</th>\n",
       "    </tr>\n",
       "  </thead>\n",
       "  <tbody>\n",
       "    <tr>\n",
       "      <th>0</th>\n",
       "      <td>56</td>\n",
       "      <td>261</td>\n",
       "      <td>1</td>\n",
       "      <td>999</td>\n",
       "      <td>0</td>\n",
       "      <td>1.1</td>\n",
       "      <td>93.994</td>\n",
       "      <td>-36.4</td>\n",
       "      <td>4.857</td>\n",
       "      <td>5191.0</td>\n",
       "      <td>0</td>\n",
       "    </tr>\n",
       "    <tr>\n",
       "      <th>1</th>\n",
       "      <td>57</td>\n",
       "      <td>149</td>\n",
       "      <td>1</td>\n",
       "      <td>999</td>\n",
       "      <td>0</td>\n",
       "      <td>1.1</td>\n",
       "      <td>93.994</td>\n",
       "      <td>-36.4</td>\n",
       "      <td>4.857</td>\n",
       "      <td>5191.0</td>\n",
       "      <td>0</td>\n",
       "    </tr>\n",
       "    <tr>\n",
       "      <th>2</th>\n",
       "      <td>37</td>\n",
       "      <td>226</td>\n",
       "      <td>1</td>\n",
       "      <td>999</td>\n",
       "      <td>0</td>\n",
       "      <td>1.1</td>\n",
       "      <td>93.994</td>\n",
       "      <td>-36.4</td>\n",
       "      <td>4.857</td>\n",
       "      <td>5191.0</td>\n",
       "      <td>0</td>\n",
       "    </tr>\n",
       "    <tr>\n",
       "      <th>3</th>\n",
       "      <td>40</td>\n",
       "      <td>151</td>\n",
       "      <td>1</td>\n",
       "      <td>999</td>\n",
       "      <td>0</td>\n",
       "      <td>1.1</td>\n",
       "      <td>93.994</td>\n",
       "      <td>-36.4</td>\n",
       "      <td>4.857</td>\n",
       "      <td>5191.0</td>\n",
       "      <td>0</td>\n",
       "    </tr>\n",
       "    <tr>\n",
       "      <th>4</th>\n",
       "      <td>56</td>\n",
       "      <td>307</td>\n",
       "      <td>1</td>\n",
       "      <td>999</td>\n",
       "      <td>0</td>\n",
       "      <td>1.1</td>\n",
       "      <td>93.994</td>\n",
       "      <td>-36.4</td>\n",
       "      <td>4.857</td>\n",
       "      <td>5191.0</td>\n",
       "      <td>0</td>\n",
       "    </tr>\n",
       "  </tbody>\n",
       "</table>\n",
       "</div>"
      ],
      "text/plain": [
       "   age  duration  campaign  pdays  previous  emp.var.rate  cons.price.idx  \\\n",
       "0   56       261         1    999         0           1.1          93.994   \n",
       "1   57       149         1    999         0           1.1          93.994   \n",
       "2   37       226         1    999         0           1.1          93.994   \n",
       "3   40       151         1    999         0           1.1          93.994   \n",
       "4   56       307         1    999         0           1.1          93.994   \n",
       "\n",
       "   cons.conf.idx  euribor3m  nr.employed  response  \n",
       "0          -36.4      4.857       5191.0         0  \n",
       "1          -36.4      4.857       5191.0         0  \n",
       "2          -36.4      4.857       5191.0         0  \n",
       "3          -36.4      4.857       5191.0         0  \n",
       "4          -36.4      4.857       5191.0         0  "
      ]
     },
     "execution_count": 12,
     "metadata": {},
     "output_type": "execute_result"
    }
   ],
   "source": [
    "int_float_bankdata.head()\n",
    "\n",
    "#int_float_bankdata.drop(columns=[\"response\"])\n",
    " \n"
   ]
  },
  {
   "cell_type": "code",
   "execution_count": 15,
   "metadata": {},
   "outputs": [],
   "source": [
    "#Concatenating back with the remaining columns, which can be done via pandas' .concat() method. \n",
    "#The axis argument is set to 1 as you want to merge on columns.\n",
    "\n",
    "resulting_bankdata = pd.concat([cat_bankdata_dummy, int_float_bankdata], axis=1)\n",
    "resulting_feature_set=resulting_bankdata.drop([\"response\"],axis=1) #response variable excluded\n",
    "\n",
    "#len(resulting_feature_set.columns.values)\n"
   ]
  },
  {
   "cell_type": "code",
   "execution_count": 16,
   "metadata": {},
   "outputs": [
    {
     "data": {
      "text/html": [
       "<div>\n",
       "<style scoped>\n",
       "    .dataframe tbody tr th:only-of-type {\n",
       "        vertical-align: middle;\n",
       "    }\n",
       "\n",
       "    .dataframe tbody tr th {\n",
       "        vertical-align: top;\n",
       "    }\n",
       "\n",
       "    .dataframe thead th {\n",
       "        text-align: right;\n",
       "    }\n",
       "</style>\n",
       "<table border=\"1\" class=\"dataframe\">\n",
       "  <thead>\n",
       "    <tr style=\"text-align: right;\">\n",
       "      <th></th>\n",
       "      <th>job_1</th>\n",
       "      <th>job_2</th>\n",
       "      <th>job_3</th>\n",
       "      <th>job_4</th>\n",
       "      <th>job_5</th>\n",
       "      <th>job_6</th>\n",
       "      <th>job_7</th>\n",
       "      <th>job_8</th>\n",
       "      <th>job_9</th>\n",
       "      <th>job_10</th>\n",
       "      <th>...</th>\n",
       "      <th>age</th>\n",
       "      <th>duration</th>\n",
       "      <th>campaign</th>\n",
       "      <th>pdays</th>\n",
       "      <th>previous</th>\n",
       "      <th>emp.var.rate</th>\n",
       "      <th>cons.price.idx</th>\n",
       "      <th>cons.conf.idx</th>\n",
       "      <th>euribor3m</th>\n",
       "      <th>nr.employed</th>\n",
       "    </tr>\n",
       "  </thead>\n",
       "  <tbody>\n",
       "    <tr>\n",
       "      <th>0</th>\n",
       "      <td>0</td>\n",
       "      <td>0</td>\n",
       "      <td>1</td>\n",
       "      <td>0</td>\n",
       "      <td>0</td>\n",
       "      <td>0</td>\n",
       "      <td>0</td>\n",
       "      <td>0</td>\n",
       "      <td>0</td>\n",
       "      <td>0</td>\n",
       "      <td>...</td>\n",
       "      <td>56</td>\n",
       "      <td>261</td>\n",
       "      <td>1</td>\n",
       "      <td>999</td>\n",
       "      <td>0</td>\n",
       "      <td>1.1</td>\n",
       "      <td>93.994</td>\n",
       "      <td>-36.4</td>\n",
       "      <td>4.857</td>\n",
       "      <td>5191.0</td>\n",
       "    </tr>\n",
       "    <tr>\n",
       "      <th>1</th>\n",
       "      <td>0</td>\n",
       "      <td>0</td>\n",
       "      <td>0</td>\n",
       "      <td>0</td>\n",
       "      <td>0</td>\n",
       "      <td>0</td>\n",
       "      <td>1</td>\n",
       "      <td>0</td>\n",
       "      <td>0</td>\n",
       "      <td>0</td>\n",
       "      <td>...</td>\n",
       "      <td>57</td>\n",
       "      <td>149</td>\n",
       "      <td>1</td>\n",
       "      <td>999</td>\n",
       "      <td>0</td>\n",
       "      <td>1.1</td>\n",
       "      <td>93.994</td>\n",
       "      <td>-36.4</td>\n",
       "      <td>4.857</td>\n",
       "      <td>5191.0</td>\n",
       "    </tr>\n",
       "    <tr>\n",
       "      <th>2</th>\n",
       "      <td>0</td>\n",
       "      <td>0</td>\n",
       "      <td>0</td>\n",
       "      <td>0</td>\n",
       "      <td>0</td>\n",
       "      <td>0</td>\n",
       "      <td>1</td>\n",
       "      <td>0</td>\n",
       "      <td>0</td>\n",
       "      <td>0</td>\n",
       "      <td>...</td>\n",
       "      <td>37</td>\n",
       "      <td>226</td>\n",
       "      <td>1</td>\n",
       "      <td>999</td>\n",
       "      <td>0</td>\n",
       "      <td>1.1</td>\n",
       "      <td>93.994</td>\n",
       "      <td>-36.4</td>\n",
       "      <td>4.857</td>\n",
       "      <td>5191.0</td>\n",
       "    </tr>\n",
       "    <tr>\n",
       "      <th>3</th>\n",
       "      <td>0</td>\n",
       "      <td>0</td>\n",
       "      <td>0</td>\n",
       "      <td>0</td>\n",
       "      <td>0</td>\n",
       "      <td>0</td>\n",
       "      <td>0</td>\n",
       "      <td>0</td>\n",
       "      <td>0</td>\n",
       "      <td>0</td>\n",
       "      <td>...</td>\n",
       "      <td>40</td>\n",
       "      <td>151</td>\n",
       "      <td>1</td>\n",
       "      <td>999</td>\n",
       "      <td>0</td>\n",
       "      <td>1.1</td>\n",
       "      <td>93.994</td>\n",
       "      <td>-36.4</td>\n",
       "      <td>4.857</td>\n",
       "      <td>5191.0</td>\n",
       "    </tr>\n",
       "    <tr>\n",
       "      <th>4</th>\n",
       "      <td>0</td>\n",
       "      <td>0</td>\n",
       "      <td>0</td>\n",
       "      <td>0</td>\n",
       "      <td>0</td>\n",
       "      <td>0</td>\n",
       "      <td>1</td>\n",
       "      <td>0</td>\n",
       "      <td>0</td>\n",
       "      <td>0</td>\n",
       "      <td>...</td>\n",
       "      <td>56</td>\n",
       "      <td>307</td>\n",
       "      <td>1</td>\n",
       "      <td>999</td>\n",
       "      <td>0</td>\n",
       "      <td>1.1</td>\n",
       "      <td>93.994</td>\n",
       "      <td>-36.4</td>\n",
       "      <td>4.857</td>\n",
       "      <td>5191.0</td>\n",
       "    </tr>\n",
       "  </tbody>\n",
       "</table>\n",
       "<p>5 rows × 53 columns</p>\n",
       "</div>"
      ],
      "text/plain": [
       "   job_1  job_2  job_3  job_4  job_5  job_6  job_7  job_8  job_9  job_10  ...  \\\n",
       "0      0      0      1      0      0      0      0      0      0       0  ...   \n",
       "1      0      0      0      0      0      0      1      0      0       0  ...   \n",
       "2      0      0      0      0      0      0      1      0      0       0  ...   \n",
       "3      0      0      0      0      0      0      0      0      0       0  ...   \n",
       "4      0      0      0      0      0      0      1      0      0       0  ...   \n",
       "\n",
       "   age  duration  campaign  pdays  previous  emp.var.rate  cons.price.idx  \\\n",
       "0   56       261         1    999         0           1.1          93.994   \n",
       "1   57       149         1    999         0           1.1          93.994   \n",
       "2   37       226         1    999         0           1.1          93.994   \n",
       "3   40       151         1    999         0           1.1          93.994   \n",
       "4   56       307         1    999         0           1.1          93.994   \n",
       "\n",
       "   cons.conf.idx  euribor3m  nr.employed  \n",
       "0          -36.4      4.857       5191.0  \n",
       "1          -36.4      4.857       5191.0  \n",
       "2          -36.4      4.857       5191.0  \n",
       "3          -36.4      4.857       5191.0  \n",
       "4          -36.4      4.857       5191.0  \n",
       "\n",
       "[5 rows x 53 columns]"
      ]
     },
     "execution_count": 16,
     "metadata": {},
     "output_type": "execute_result"
    }
   ],
   "source": [
    "resulting_feature_set.head()"
   ]
  },
  {
   "cell_type": "code",
   "execution_count": 17,
   "metadata": {
    "scrolled": true
   },
   "outputs": [
    {
     "name": "stdout",
     "output_type": "stream",
     "text": [
      "                     age  duration  campaign     pdays  previous  \\\n",
      "age             1.000000 -0.000866  0.004594 -0.034369  0.024365   \n",
      "duration       -0.000866  1.000000 -0.071699 -0.047577  0.020640   \n",
      "campaign        0.004594 -0.071699  1.000000  0.052584 -0.079141   \n",
      "pdays          -0.034369 -0.047577  0.052584  1.000000 -0.587514   \n",
      "previous        0.024365  0.020640 -0.079141 -0.587514  1.000000   \n",
      "emp.var.rate   -0.000371 -0.027968  0.150754  0.271004 -0.420489   \n",
      "cons.price.idx  0.000857  0.005312  0.127836  0.078889 -0.203130   \n",
      "cons.conf.idx   0.129372 -0.008173 -0.013733 -0.091342 -0.050936   \n",
      "euribor3m       0.010767 -0.032897  0.135133  0.296899 -0.454494   \n",
      "nr.employed    -0.017725 -0.044703  0.144095  0.372605 -0.501333   \n",
      "response        0.030399  0.405274 -0.066357 -0.324914  0.230181   \n",
      "\n",
      "                emp.var.rate  cons.price.idx  cons.conf.idx  euribor3m  \\\n",
      "age                -0.000371        0.000857       0.129372   0.010767   \n",
      "duration           -0.027968        0.005312      -0.008173  -0.032897   \n",
      "campaign            0.150754        0.127836      -0.013733   0.135133   \n",
      "pdays               0.271004        0.078889      -0.091342   0.296899   \n",
      "previous           -0.420489       -0.203130      -0.050936  -0.454494   \n",
      "emp.var.rate        1.000000        0.775334       0.196041   0.972245   \n",
      "cons.price.idx      0.775334        1.000000       0.058986   0.688230   \n",
      "cons.conf.idx       0.196041        0.058986       1.000000   0.277686   \n",
      "euribor3m           0.972245        0.688230       0.277686   1.000000   \n",
      "nr.employed         0.906970        0.522034       0.100513   0.945154   \n",
      "response           -0.298334       -0.136211       0.054878  -0.307771   \n",
      "\n",
      "                nr.employed  response  \n",
      "age               -0.017725  0.030399  \n",
      "duration          -0.044703  0.405274  \n",
      "campaign           0.144095 -0.066357  \n",
      "pdays              0.372605 -0.324914  \n",
      "previous          -0.501333  0.230181  \n",
      "emp.var.rate       0.906970 -0.298334  \n",
      "cons.price.idx     0.522034 -0.136211  \n",
      "cons.conf.idx      0.100513  0.054878  \n",
      "euribor3m          0.945154 -0.307771  \n",
      "nr.employed        1.000000 -0.354678  \n",
      "response          -0.354678  1.000000  \n"
     ]
    }
   ],
   "source": [
    "correlated_features = set()   #creating empty set\n",
    "correlation_matrix = int_float_bankdata.corr()  \n",
    "\n",
    "print(correlation_matrix)\n",
    "\n",
    "for i in range(len(correlation_matrix.columns)):  \n",
    "    for j in range(i):\n",
    "        if abs(correlation_matrix.iloc[i, j]) > 0.8:\n",
    "            colname = correlation_matrix.columns[i]\n",
    "            correlated_features.add(colname)\n",
    "\n",
    "#print(correlated_features)\n",
    "#These correlated columns convey similar information to the learning algorithm and therefore, should be removed            \n",
    "\n",
    "#The following script removes these columns from the dataset:\n",
    "\n",
    "\n",
    "resulting_feature_set.drop(columns=list(correlated_features), axis=1, inplace=True)  \n"
   ]
  },
  {
   "cell_type": "code",
   "execution_count": 18,
   "metadata": {},
   "outputs": [
    {
     "name": "stdout",
     "output_type": "stream",
     "text": [
      "{'euribor3m', 'nr.employed'}\n"
     ]
    }
   ],
   "source": [
    "print(correlated_features)"
   ]
  },
  {
   "cell_type": "code",
   "execution_count": 25,
   "metadata": {},
   "outputs": [],
   "source": [
    "from sklearn.model_selection import train_test_split\n",
    "#It’s necessary to use stratify when the labels are imbalanced \n",
    "\n",
    "X_train, X_test, y_train, y_test = train_test_split(resulting_feature_set, bankdata[\"response\"], test_size=0.3, random_state=0,stratify=bankdata[\"response\"])"
   ]
  },
  {
   "cell_type": "code",
   "execution_count": 26,
   "metadata": {},
   "outputs": [],
   "source": [
    "from imblearn.over_sampling import SMOTENC #dealing with mixed data type such as continuous and categorical features\n",
    "smote_nc = SMOTENC(categorical_features=list(range(0,44)), random_state=0)\n",
    "X_train, y_train = smote_nc.fit_resample(X_train, y_train)"
   ]
  },
  {
   "cell_type": "code",
   "execution_count": null,
   "metadata": {},
   "outputs": [],
   "source": [
    "#data_dmatrix = xgb.DMatrix(data=X,label=y)\n"
   ]
  },
  {
   "cell_type": "code",
   "execution_count": null,
   "metadata": {},
   "outputs": [],
   "source": [
    "print(X_train_xgb.shape,X_test_xgb.shape)"
   ]
  },
  {
   "cell_type": "code",
   "execution_count": 24,
   "metadata": {},
   "outputs": [
    {
     "name": "stdout",
     "output_type": "stream",
     "text": [
      "[(0, 25480), (1, 25480)]\n"
     ]
    }
   ],
   "source": [
    "from imblearn.combine import SMOTETomek \n",
    "from collections import Counter\n",
    "\n",
    "smt = SMOTETomek(random_state=42)\n",
    "X_train_xgb, y_train_xgb = smt.fit_resample(X_train_xgb, y_train_xgb)\n",
    "\n",
    "\n",
    "print(sorted(Counter(y_train_xgb).items()))"
   ]
  },
  {
   "cell_type": "code",
   "execution_count": 27,
   "metadata": {},
   "outputs": [
    {
     "data": {
      "text/plain": [
       "RandomizedSearchCV(cv=5, error_score='raise-deprecating',\n",
       "                   estimator=XGBClassifier(base_score=0.5, booster='gbtree',\n",
       "                                           colsample_bylevel=1,\n",
       "                                           colsample_bynode=1,\n",
       "                                           colsample_bytree=1, gamma=0,\n",
       "                                           learning_rate=0.1, max_delta_step=0,\n",
       "                                           max_depth=3, min_child_weight=1,\n",
       "                                           missing=None, n_estimators=100,\n",
       "                                           n_jobs=1, nthread=None,\n",
       "                                           objective='binary:logistic',\n",
       "                                           random_state=0, reg_alpha=0,\n",
       "                                           reg_lambda=1, scale_pos_weight=1,\n",
       "                                           seed=None, silent=None, subsample=1,\n",
       "                                           verbosity=1),\n",
       "                   iid='warn', n_iter=10, n_jobs=None,\n",
       "                   param_distributions={'booster': ['gbtree', 'dart'],\n",
       "                                        'learning_rate': [0.05, 0.1, 0.2, 0.3],\n",
       "                                        'max_depth': [2, 3, 4, 5, 6]},\n",
       "                   pre_dispatch='2*n_jobs', random_state=0, refit=True,\n",
       "                   return_train_score=True, scoring='accuracy', verbose=0)"
      ]
     },
     "execution_count": 27,
     "metadata": {},
     "output_type": "execute_result"
    }
   ],
   "source": [
    "#GRIDSEARCH\n",
    "\n",
    "from sklearn.model_selection import RandomizedSearchCV\n",
    "from xgboost import XGBClassifier\n",
    "\n",
    "xgb_classifier=XGBClassifier(objective='binary:logistic',n_estimators=100)\n",
    "\n",
    "parameters = {'max_depth' : [2,3,4,5,6],\n",
    "              'learning_rate' : [0.05,0.1,0.2,0.3],\n",
    "              \"booster\" : [\"gbtree\",\"dart\"]\n",
    "             }\n",
    "\n",
    "classif_xgb = RandomizedSearchCV(xgb_classifier, parameters, cv=5, return_train_score=True, scoring=\"accuracy\",random_state=0)\n",
    "classif_xgb.fit(X_train, y_train)\n",
    "\n"
   ]
  },
  {
   "cell_type": "code",
   "execution_count": 28,
   "metadata": {},
   "outputs": [
    {
     "name": "stdout",
     "output_type": "stream",
     "text": [
      "Best parameters : {'max_depth': 6, 'learning_rate': 0.05, 'booster': 'gbtree'} \n",
      "\n",
      "Best score : 0.9193800570691475 \n",
      "\n"
     ]
    },
    {
     "data": {
      "text/html": [
       "<div>\n",
       "<style scoped>\n",
       "    .dataframe tbody tr th:only-of-type {\n",
       "        vertical-align: middle;\n",
       "    }\n",
       "\n",
       "    .dataframe tbody tr th {\n",
       "        vertical-align: top;\n",
       "    }\n",
       "\n",
       "    .dataframe thead th {\n",
       "        text-align: right;\n",
       "    }\n",
       "</style>\n",
       "<table border=\"1\" class=\"dataframe\">\n",
       "  <thead>\n",
       "    <tr style=\"text-align: right;\">\n",
       "      <th></th>\n",
       "      <th>mean_fit_time</th>\n",
       "      <th>std_fit_time</th>\n",
       "      <th>mean_score_time</th>\n",
       "      <th>std_score_time</th>\n",
       "      <th>param_max_depth</th>\n",
       "      <th>param_learning_rate</th>\n",
       "      <th>param_booster</th>\n",
       "      <th>params</th>\n",
       "      <th>split0_test_score</th>\n",
       "      <th>split1_test_score</th>\n",
       "      <th>...</th>\n",
       "      <th>mean_test_score</th>\n",
       "      <th>std_test_score</th>\n",
       "      <th>rank_test_score</th>\n",
       "      <th>split0_train_score</th>\n",
       "      <th>split1_train_score</th>\n",
       "      <th>split2_train_score</th>\n",
       "      <th>split3_train_score</th>\n",
       "      <th>split4_train_score</th>\n",
       "      <th>mean_train_score</th>\n",
       "      <th>std_train_score</th>\n",
       "    </tr>\n",
       "  </thead>\n",
       "  <tbody>\n",
       "    <tr>\n",
       "      <th>0</th>\n",
       "      <td>54.533879</td>\n",
       "      <td>3.829355</td>\n",
       "      <td>0.149335</td>\n",
       "      <td>0.019806</td>\n",
       "      <td>4</td>\n",
       "      <td>0.05</td>\n",
       "      <td>dart</td>\n",
       "      <td>{'max_depth': 4, 'learning_rate': 0.05, 'boost...</td>\n",
       "      <td>0.807016</td>\n",
       "      <td>0.948114</td>\n",
       "      <td>...</td>\n",
       "      <td>0.917758</td>\n",
       "      <td>0.055419</td>\n",
       "      <td>3</td>\n",
       "      <td>0.971758</td>\n",
       "      <td>0.934819</td>\n",
       "      <td>0.934648</td>\n",
       "      <td>0.934089</td>\n",
       "      <td>0.935359</td>\n",
       "      <td>0.942135</td>\n",
       "      <td>0.014817</td>\n",
       "    </tr>\n",
       "    <tr>\n",
       "      <th>1</th>\n",
       "      <td>32.279225</td>\n",
       "      <td>2.219404</td>\n",
       "      <td>0.155763</td>\n",
       "      <td>0.119498</td>\n",
       "      <td>2</td>\n",
       "      <td>0.05</td>\n",
       "      <td>dart</td>\n",
       "      <td>{'max_depth': 2, 'learning_rate': 0.05, 'boost...</td>\n",
       "      <td>0.859586</td>\n",
       "      <td>0.919679</td>\n",
       "      <td>...</td>\n",
       "      <td>0.906383</td>\n",
       "      <td>0.023507</td>\n",
       "      <td>10</td>\n",
       "      <td>0.929371</td>\n",
       "      <td>0.910583</td>\n",
       "      <td>0.909777</td>\n",
       "      <td>0.911296</td>\n",
       "      <td>0.911834</td>\n",
       "      <td>0.914572</td>\n",
       "      <td>0.007431</td>\n",
       "    </tr>\n",
       "    <tr>\n",
       "      <th>2</th>\n",
       "      <td>31.389315</td>\n",
       "      <td>1.212860</td>\n",
       "      <td>0.103237</td>\n",
       "      <td>0.012784</td>\n",
       "      <td>2</td>\n",
       "      <td>0.1</td>\n",
       "      <td>dart</td>\n",
       "      <td>{'max_depth': 2, 'learning_rate': 0.1, 'booste...</td>\n",
       "      <td>0.814442</td>\n",
       "      <td>0.940004</td>\n",
       "      <td>...</td>\n",
       "      <td>0.913732</td>\n",
       "      <td>0.049666</td>\n",
       "      <td>9</td>\n",
       "      <td>0.956611</td>\n",
       "      <td>0.926512</td>\n",
       "      <td>0.925266</td>\n",
       "      <td>0.926467</td>\n",
       "      <td>0.927371</td>\n",
       "      <td>0.932445</td>\n",
       "      <td>0.012101</td>\n",
       "    </tr>\n",
       "    <tr>\n",
       "      <th>3</th>\n",
       "      <td>49.852671</td>\n",
       "      <td>2.519928</td>\n",
       "      <td>0.212875</td>\n",
       "      <td>0.021038</td>\n",
       "      <td>6</td>\n",
       "      <td>0.05</td>\n",
       "      <td>gbtree</td>\n",
       "      <td>{'max_depth': 6, 'learning_rate': 0.05, 'boost...</td>\n",
       "      <td>0.764315</td>\n",
       "      <td>0.959840</td>\n",
       "      <td>...</td>\n",
       "      <td>0.919380</td>\n",
       "      <td>0.077561</td>\n",
       "      <td>1</td>\n",
       "      <td>0.986392</td>\n",
       "      <td>0.946497</td>\n",
       "      <td>0.946203</td>\n",
       "      <td>0.947061</td>\n",
       "      <td>0.945986</td>\n",
       "      <td>0.954428</td>\n",
       "      <td>0.015986</td>\n",
       "    </tr>\n",
       "    <tr>\n",
       "      <th>4</th>\n",
       "      <td>22.597784</td>\n",
       "      <td>2.477232</td>\n",
       "      <td>0.111208</td>\n",
       "      <td>0.028064</td>\n",
       "      <td>2</td>\n",
       "      <td>0.2</td>\n",
       "      <td>gbtree</td>\n",
       "      <td>{'max_depth': 2, 'learning_rate': 0.2, 'booste...</td>\n",
       "      <td>0.761188</td>\n",
       "      <td>0.954661</td>\n",
       "      <td>...</td>\n",
       "      <td>0.915979</td>\n",
       "      <td>0.077416</td>\n",
       "      <td>7</td>\n",
       "      <td>0.976962</td>\n",
       "      <td>0.934819</td>\n",
       "      <td>0.935014</td>\n",
       "      <td>0.937045</td>\n",
       "      <td>0.935506</td>\n",
       "      <td>0.943869</td>\n",
       "      <td>0.016565</td>\n",
       "    </tr>\n",
       "  </tbody>\n",
       "</table>\n",
       "<p>5 rows × 23 columns</p>\n",
       "</div>"
      ],
      "text/plain": [
       "   mean_fit_time  std_fit_time  mean_score_time  std_score_time  \\\n",
       "0      54.533879      3.829355         0.149335        0.019806   \n",
       "1      32.279225      2.219404         0.155763        0.119498   \n",
       "2      31.389315      1.212860         0.103237        0.012784   \n",
       "3      49.852671      2.519928         0.212875        0.021038   \n",
       "4      22.597784      2.477232         0.111208        0.028064   \n",
       "\n",
       "  param_max_depth param_learning_rate param_booster  \\\n",
       "0               4                0.05          dart   \n",
       "1               2                0.05          dart   \n",
       "2               2                 0.1          dart   \n",
       "3               6                0.05        gbtree   \n",
       "4               2                 0.2        gbtree   \n",
       "\n",
       "                                              params  split0_test_score  \\\n",
       "0  {'max_depth': 4, 'learning_rate': 0.05, 'boost...           0.807016   \n",
       "1  {'max_depth': 2, 'learning_rate': 0.05, 'boost...           0.859586   \n",
       "2  {'max_depth': 2, 'learning_rate': 0.1, 'booste...           0.814442   \n",
       "3  {'max_depth': 6, 'learning_rate': 0.05, 'boost...           0.764315   \n",
       "4  {'max_depth': 2, 'learning_rate': 0.2, 'booste...           0.761188   \n",
       "\n",
       "   split1_test_score  ...  mean_test_score  std_test_score  rank_test_score  \\\n",
       "0           0.948114  ...         0.917758        0.055419                3   \n",
       "1           0.919679  ...         0.906383        0.023507               10   \n",
       "2           0.940004  ...         0.913732        0.049666                9   \n",
       "3           0.959840  ...         0.919380        0.077561                1   \n",
       "4           0.954661  ...         0.915979        0.077416                7   \n",
       "\n",
       "   split0_train_score  split1_train_score  split2_train_score  \\\n",
       "0            0.971758            0.934819            0.934648   \n",
       "1            0.929371            0.910583            0.909777   \n",
       "2            0.956611            0.926512            0.925266   \n",
       "3            0.986392            0.946497            0.946203   \n",
       "4            0.976962            0.934819            0.935014   \n",
       "\n",
       "   split3_train_score  split4_train_score  mean_train_score  std_train_score  \n",
       "0            0.934089            0.935359          0.942135         0.014817  \n",
       "1            0.911296            0.911834          0.914572         0.007431  \n",
       "2            0.926467            0.927371          0.932445         0.012101  \n",
       "3            0.947061            0.945986          0.954428         0.015986  \n",
       "4            0.937045            0.935506          0.943869         0.016565  \n",
       "\n",
       "[5 rows x 23 columns]"
      ]
     },
     "execution_count": 28,
     "metadata": {},
     "output_type": "execute_result"
    }
   ],
   "source": [
    "print(\"Best parameters :\" , classif_xgb.best_params_, \"\\n\")\n",
    "print(\"Best score :\" , classif_xgb.best_score_, \"\\n\")\n",
    "pd.DataFrame(classif_xgb.cv_results_).head()\n",
    "    "
   ]
  },
  {
   "cell_type": "code",
   "execution_count": 29,
   "metadata": {},
   "outputs": [
    {
     "name": "stdout",
     "output_type": "stream",
     "text": [
      "Fitting 3 folds for each of 5 candidates, totalling 15 fits\n"
     ]
    },
    {
     "name": "stderr",
     "output_type": "stream",
     "text": [
      "[Parallel(n_jobs=4)]: Using backend LokyBackend with 4 concurrent workers.\n",
      "[Parallel(n_jobs=4)]: Done  15 out of  15 | elapsed: 33.0min finished\n"
     ]
    },
    {
     "data": {
      "text/plain": [
       "RandomizedSearchCV(cv=<generator object _BaseKFold.split at 0x00000044C2A8BC78>,\n",
       "                   error_score='raise-deprecating',\n",
       "                   estimator=XGBClassifier(base_score=0.5, booster='gbtree',\n",
       "                                           colsample_bylevel=1,\n",
       "                                           colsample_bynode=1,\n",
       "                                           colsample_bytree=1, gamma=0,\n",
       "                                           learning_rate=0.02, max_delta_step=0,\n",
       "                                           max_depth=3, min_child_weight=1,\n",
       "                                           missing=None, n_estimators=500,\n",
       "                                           n_jobs=1, nthread=None,\n",
       "                                           objective='binary:logistic',\n",
       "                                           random_state=0, reg_alpha=0,\n",
       "                                           reg_lambda=1, scale_pos_weight=1,\n",
       "                                           seed=None, silent=None, subsample=1,\n",
       "                                           verbosity=1),\n",
       "                   iid='warn', n_iter=5, n_jobs=4,\n",
       "                   param_distributions={'learning_rate': [0.01, 0.02, 0.1],\n",
       "                                        'max_depth': [4, 5, 6]},\n",
       "                   pre_dispatch='2*n_jobs', random_state=1001, refit=True,\n",
       "                   return_train_score=False, scoring='f1', verbose=3)"
      ]
     },
     "execution_count": 29,
     "metadata": {},
     "output_type": "execute_result"
    }
   ],
   "source": [
    "from sklearn.model_selection import StratifiedKFold\n",
    "\n",
    "folds = 3\n",
    "\n",
    "xgb_class=XGBClassifier(objective='binary:logistic',n_estimators=500,learning_rate=0.02, )\n",
    "xgb_class.fit(X_train,y_train)\n",
    "\n",
    "folds = 3\n",
    "parameters = {'max_depth' : [4,5,6],\n",
    "              'learning_rate' : [0.01,0.02,0.1],\n",
    "              }\n",
    "skf = StratifiedKFold(n_splits=folds, shuffle = True, random_state = 1001)\n",
    "\n",
    "random_search = RandomizedSearchCV(xgb_class, param_distributions=parameters, n_iter=5, scoring='f1', n_jobs=4, cv=skf.split(resulting_feature_set,bankdata[\"response\"]), verbose=3, random_state=1001)\n",
    "random_search.fit(X_train,y_train)"
   ]
  },
  {
   "cell_type": "code",
   "execution_count": 30,
   "metadata": {},
   "outputs": [
    {
     "data": {
      "text/plain": [
       "XGBClassifier(base_score=0.5, booster='gbtree', colsample_bylevel=1,\n",
       "              colsample_bynode=1, colsample_bytree=1, gamma=0,\n",
       "              learning_rate=0.1, max_delta_step=0, max_depth=5,\n",
       "              min_child_weight=1, missing=None, n_estimators=500, n_jobs=1,\n",
       "              nthread=None, objective='binary:logistic', random_state=0,\n",
       "              reg_alpha=0, reg_lambda=1, scale_pos_weight=1, seed=None,\n",
       "              silent=None, subsample=1, verbosity=1)"
      ]
     },
     "execution_count": 30,
     "metadata": {},
     "output_type": "execute_result"
    }
   ],
   "source": [
    "xgb_model = random_search.best_estimator_ \n",
    "xgb_model.fit(X_train,y_train)"
   ]
  },
  {
   "cell_type": "code",
   "execution_count": 31,
   "metadata": {},
   "outputs": [],
   "source": [
    "X_test=np.asarray(X_test)"
   ]
  },
  {
   "cell_type": "code",
   "execution_count": 32,
   "metadata": {},
   "outputs": [],
   "source": [
    "# Make predictions\n",
    "y_pred = xgb_class.predict(X_test)\n",
    "\n",
    "#y_pred = xgb_model.predict(X_test)\n",
    "#preds_xgb = pd.Series(preds_xgb)\n"
   ]
  },
  {
   "cell_type": "code",
   "execution_count": 35,
   "metadata": {},
   "outputs": [
    {
     "name": "stdout",
     "output_type": "stream",
     "text": [
      "[[10072   893]\n",
      " [  391  1001]]\n",
      "\n",
      "f1 :  0.6092513694461351\n",
      "recall :  0.7191091954022989\n",
      "precision :  0.5285110876451954\n",
      "weighted_accuracy :  0.8188341234649433\n"
     ]
    }
   ],
   "source": [
    "from sklearn.metrics import precision_score, recall_score, f1_score, balanced_accuracy_score ,confusion_matrix\n",
    "#from imblearn.metrics import geometric_mean_score\n",
    "#For any classifier, there is always a trade off between true positive rate and true negative rate; and the\n",
    "#same applies for recall and precision\n",
    "\n",
    "\n",
    "# In many applications such as drug discovery and disease diagnosis, it is desirable\n",
    "#to have a classifier that gives high prediction accuracy over the minority class (Acc+), while maintaining\n",
    "#reasonable accuracy for the majority class (Acc−). Weighted Accuracy is often used in such situations.\n",
    "#Weights can be adjusted to suit the application. Here we use equal weights for both true positive rate and\n",
    "#true negative rate; i.e., β equals 0.5\n",
    "\n",
    "print(confusion_matrix(y_test, y_pred))\n",
    "print()\n",
    "print(\"f1 : \", f1_score(y_test, y_pred,average=\"binary\"))\n",
    "print(\"recall : \" ,recall_score(y_test, y_pred))\n",
    "print(\"precision : \" ,precision_score(y_test, y_pred))\n",
    "print(\"weighted_accuracy : \" ,balanced_accuracy_score(y_test, y_pred))\n",
    "#print(\"G_mean : \" , geometric_mean_score(y_test, y_pred))"
   ]
  },
  {
   "cell_type": "code",
   "execution_count": 36,
   "metadata": {},
   "outputs": [
    {
     "data": {
      "image/png": "[encoded data removed]",
      "text/plain": [
       "<Figure size 432x288 with 1 Axes>"
      ]
     },
     "metadata": {
      "needs_background": "light"
     },
     "output_type": "display_data"
    }
   ],
   "source": [
    "import matplotlib.pyplot as plt\n",
    "import xgboost as xgb\n",
    "xgb.plot_importance(xgb_model)\n",
    "plt.rcParams['figure.figsize'] = [20, 10]\n",
    "plt.show()"
   ]
  },
  {
   "cell_type": "code",
   "execution_count": 37,
   "metadata": {
    "collapsed": true
   },
   "outputs": [
    {
     "name": "stdout",
     "output_type": "stream",
     "text": [
      "Area under ROC curve = 0.76 \n",
      "\n",
      "Roc_auc_score = 0.76 \n",
      "\n"
     ]
    },
    {
     "ename": "NameError",
     "evalue": "name 'preds' is not defined",
     "output_type": "error",
     "traceback": [
      "\u001b[1;31m---------------------------------------------------------------------------\u001b[0m",
      "\u001b[1;31mNameError\u001b[0m                                 Traceback (most recent call last)",
      "\u001b[1;32m<ipython-input-37-fec106eb122a>\u001b[0m in \u001b[0;36m<module>\u001b[1;34m\u001b[0m\n\u001b[0;32m      8\u001b[0m \u001b[1;33m\u001b[0m\u001b[0m\n\u001b[0;32m      9\u001b[0m \u001b[1;31m# Generate table of predictions\u001b[0m\u001b[1;33m\u001b[0m\u001b[1;33m\u001b[0m\u001b[1;33m\u001b[0m\u001b[0m\n\u001b[1;32m---> 10\u001b[1;33m \u001b[0mcontingency_table\u001b[0m \u001b[1;33m=\u001b[0m \u001b[0mpd\u001b[0m\u001b[1;33m.\u001b[0m\u001b[0mcrosstab\u001b[0m\u001b[1;33m(\u001b[0m\u001b[0mpreds\u001b[0m\u001b[1;33m,\u001b[0m \u001b[0my_test\u001b[0m \u001b[1;33m,\u001b[0m\u001b[0mmargins\u001b[0m\u001b[1;33m=\u001b[0m\u001b[1;32mTrue\u001b[0m\u001b[1;33m)\u001b[0m\u001b[1;33m\u001b[0m\u001b[1;33m\u001b[0m\u001b[0m\n\u001b[0m\u001b[0;32m     11\u001b[0m \u001b[0mprint\u001b[0m\u001b[1;33m(\u001b[0m\u001b[0mcontingency_table\u001b[0m\u001b[1;33m)\u001b[0m\u001b[1;33m\u001b[0m\u001b[1;33m\u001b[0m\u001b[0m\n",
      "\u001b[1;31mNameError\u001b[0m: name 'preds' is not defined"
     ]
    }
   ],
   "source": [
    "y_pred = xgb_model.predict(X_test)\n",
    "fpr, tpr, _ = roc_curve(y_test, y_pred)\n",
    "roc_auc = auc(fpr, tpr)\n",
    "print(\"Area under ROC curve = {:0.2f}\".format(roc_auc),\"\\n\") \n",
    "\n",
    "print(\"Roc_auc_score = {:0.2f}\".format(roc_auc_score(y_test, y_pred)),\"\\n\") \n",
    "\n",
    "\n",
    "# Generate table of predictions\n",
    "contingency_table = pd.crosstab(preds, y_test ,margins=True)\n",
    "print(contingency_table)"
   ]
  },
  {
   "cell_type": "code",
   "execution_count": 44,
   "metadata": {},
   "outputs": [
    {
     "name": "stdout",
     "output_type": "stream",
     "text": [
      "[[10478   620]\n",
      " [  487   772]]\n",
      "              precision    recall  f1-score   support\n",
      "\n",
      "           0       0.96      0.94      0.95     11098\n",
      "           1       0.55      0.61      0.58      1259\n",
      "\n",
      "   micro avg       0.91      0.91      0.91     12357\n",
      "   macro avg       0.76      0.78      0.77     12357\n",
      "weighted avg       0.91      0.91      0.91     12357\n",
      "\n"
     ]
    }
   ],
   "source": [
    "from sklearn.metrics import classification_report, confusion_matrix  \n",
    "\n",
    "\n",
    "print(confusion_matrix(y_pred_xgb, y_test_xgb))  \n",
    "print(classification_report(y_pred_xgb, y_test_xgb)) "
   ]
  },
  {
   "cell_type": "code",
   "execution_count": 32,
   "metadata": {},
   "outputs": [
    {
     "data": {
      "image/png": "[encoded data removed]",
      "text/plain": [
       "<Figure size 432x288 with 1 Axes>"
      ]
     },
     "metadata": {},
     "output_type": "display_data"
    },
    {
     "name": "stdout",
     "output_type": "stream",
     "text": [
      "AUC: 0.993\n"
     ]
    }
   ],
   "source": [
    "#ROC_CURVE (an accuarte metrics for balanced data)\n",
    "\n",
    "y_pred_prob_xgb = xgb_model.predict_proba(X_test_xgb)\n",
    "fpr, tpr, thresholds = roc_curve(y_test_xgb, y_pred_prob_xgb[:,1])\n",
    "auc_score = roc_auc_score(y_test_xgb, y_pred_prob_xgb[:,1])\n",
    "plt.plot([0, 1], [0, 1], linestyle='--')\n",
    "plt.plot(fpr, tpr, marker='.')\n",
    "plt.xlabel('fpr',fontsize='15')\n",
    "plt.ylabel('tpr',fontsize='15')\n",
    "plt.legend([\"AUC Score:\" + \"{0:.2f}\".format(auc_score)],)\n",
    "plt.show()\n",
    "\n",
    "print('AUC: %.3f' % auc_score)\n"
   ]
  },
  {
   "cell_type": "code",
   "execution_count": 33,
   "metadata": {},
   "outputs": [
    {
     "name": "stdout",
     "output_type": "stream",
     "text": [
      "Cross-validated scores: [0.99253331 0.99242956 0.99238856 0.99305783 0.9924965 ]\n"
     ]
    }
   ],
   "source": [
    "from sklearn.model_selection import StratifiedKFold, cross_val_score\n",
    "\n",
    "kfold = StratifiedKFold(n_splits=5,shuffle=True,random_state=7)\n",
    "accuracy = cross_val_score(xgb_model,X_train_xgb, y_train_xgb,cv=list(kfold.split(X_train_xgb, y_train_xgb)),scoring=\"roc_auc\")\n",
    "print (\"Cross-validated scores:\", accuracy)"
   ]
  },
  {
   "cell_type": "code",
   "execution_count": 34,
   "metadata": {},
   "outputs": [
    {
     "data": {
      "text/plain": [
       "0.9925811538139657"
      ]
     },
     "execution_count": 34,
     "metadata": {},
     "output_type": "execute_result"
    }
   ],
   "source": [
    "accuracy.mean()"
   ]
  },
  {
   "cell_type": "code",
   "execution_count": 35,
   "metadata": {},
   "outputs": [
    {
     "name": "stdout",
     "output_type": "stream",
     "text": [
      "Cross-validated scores: [0.99265078 0.99295515 0.99247859 0.99235891 0.99199454]\n"
     ]
    }
   ],
   "source": [
    "from sklearn.model_selection import StratifiedShuffleSplit #This does not try to make folds with testing sets that are mutually exclusive\n",
    "\n",
    "sss = StratifiedShuffleSplit(n_splits = 5,test_size=0.25)\n",
    "accuracy = cross_val_score(xgb_model,X_train_xgb, y_train_xgb,cv=list(sss.split(X_train_xgb, y_train_xgb)),scoring=\"roc_auc\")\n",
    "print (\"Cross-validated scores:\", accuracy)"
   ]
  },
  {
   "cell_type": "code",
   "execution_count": 20,
   "metadata": {},
   "outputs": [
    {
     "name": "stdout",
     "output_type": "stream",
     "text": [
      "Cross-validated scores: [0.93747837 0.93969291 0.93612171 0.93776956 0.93495027 0.93795293\n",
      " 0.93699947 0.9388117  0.93682835 0.93648154]\n",
      "Accuracy: 0.94 (+/- 0.00)\n"
     ]
    }
   ],
   "source": [
    "from sklearn.model_selection import ShuffleSplit\n",
    "\n",
    "cv = ShuffleSplit(n_splits=10, test_size=0.3, random_state=0)\n",
    "acc_shuffle=cross_val_score(xgb_model,X_train_xgb, y_train_xgb,scoring=\"roc_auc\", cv=cv)  \n",
    "print (\"Cross-validated scores:\", acc_shuffle)  #he Accuracy of the model is the average of the accuracy of each fold.\n",
    "print(\"Accuracy: %0.2f (+/- %0.2f)\" % (acc_shuffle.mean(), acc_shuffle.std() * 2))\n"
   ]
  },
  {
   "cell_type": "code",
   "execution_count": 96,
   "metadata": {},
   "outputs": [
    {
     "name": "stdout",
     "output_type": "stream",
     "text": [
      "Cross-validated scores: [0.93463382 0.94355752 0.93927409 0.94451453 0.94365938 0.94444809\n",
      " 0.93593887 0.94006346 0.94461375 0.93530923 0.93575869 0.93855667]\n",
      "Accuracy: 0.94 (+/- 0.01)\n"
     ]
    }
   ],
   "source": [
    "#OR >>\n",
    "roc_accuracy = cross_val_score(xgb_model,X_train_xgb, y_train_xgb,scoring=\"roc_auc\", cv=12)\n",
    "print (\"Cross-validated scores:\", roc_accuracy)  #he Accuracy of the model is the average of the accuracy of each fold.\n",
    "print(\"Accuracy: %0.2f (+/- %0.2f)\" % (roc_accuracy.mean(), roc_accuracy.std() * 2))"
   ]
  },
  {
   "cell_type": "code",
   "execution_count": 37,
   "metadata": {},
   "outputs": [
    {
     "data": {
      "text/plain": [
       "array([[10538,   427],\n",
       "       [  605, 10359]], dtype=int64)"
      ]
     },
     "execution_count": 37,
     "metadata": {},
     "output_type": "execute_result"
    }
   ],
   "source": [
    "y_pred_rs = xgb_model.predict(X_test_xgb)\n",
    "from sklearn.metrics import confusion_matrix\n",
    "confusion_matrix(y_test_xgb, y_pred_rs)"
   ]
  },
  {
   "cell_type": "code",
   "execution_count": 40,
   "metadata": {},
   "outputs": [
    {
     "name": "stdout",
     "output_type": "stream",
     "text": [
      "[[10359   605]\n",
      " [  427 10538]]\n",
      "              precision    recall  f1-score   support\n",
      "\n",
      "           0       0.95      0.96      0.95     10965\n",
      "           1       0.96      0.94      0.95     10964\n",
      "\n",
      "   micro avg       0.95      0.95      0.95     21929\n",
      "   macro avg       0.95      0.95      0.95     21929\n",
      "weighted avg       0.95      0.95      0.95     21929\n",
      "\n"
     ]
    }
   ],
   "source": [
    "from sklearn.metrics import classification_report, confusion_matrix  \n",
    "\n",
    "\n",
    "print(confusion_matrix(y_test_xgb, preds_xgb,labels = [1,0]))  \n",
    "print(classification_report(y_test_xgb, preds_xgb))\n",
    "\n",
    "#Precision and Recall metrics are appropriate when you are dealing with imbalanced datasets\n",
    "#F1 > harmonic mean of precision and recall"
   ]
  }
 ],
 "metadata": {
  "kernelspec": {
   "display_name": "Python 3",
   "language": "python",
   "name": "python3"
  },
  "language_info": {
   "codemirror_mode": {
    "name": "ipython",
    "version": 3
   },
   "file_extension": ".py",
   "mimetype": "text/x-python",
   "name": "python",
   "nbconvert_exporter": "python",
   "pygments_lexer": "ipython3",
   "version": "3.7.3"
  }
 },
 "nbformat": 4,
 "nbformat_minor": 2
}
